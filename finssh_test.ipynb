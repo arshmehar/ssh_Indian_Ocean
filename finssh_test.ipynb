{
  "nbformat": 4,
  "nbformat_minor": 0,
  "metadata": {
    "colab": {
      "provenance": [],
      "authorship_tag": "ABX9TyMuMu7tW51xfoz777rUQ/NS",
      "include_colab_link": true
    },
    "kernelspec": {
      "name": "python3",
      "display_name": "Python 3"
    },
    "language_info": {
      "name": "python"
    }
  },
  "cells": [
    {
      "cell_type": "markdown",
      "metadata": {
        "id": "view-in-github",
        "colab_type": "text"
      },
      "source": [
        "<a href=\"https://colab.research.google.com/github/arshmehar/ssh_Indian_Ocean/blob/main/finssh_test.ipynb\" target=\"_parent\"><img src=\"https://colab.research.google.com/assets/colab-badge.svg\" alt=\"Open In Colab\"/></a>"
      ]
    },
    {
      "cell_type": "code",
      "execution_count": 1,
      "metadata": {
        "id": "WhYjElE0i6tH",
        "colab": {
          "base_uri": "https://localhost:8080/"
        },
        "outputId": "af1542a9-a566-4e85-9094-ebf202164df0"
      },
      "outputs": [
        {
          "output_type": "stream",
          "name": "stdout",
          "text": [
            "Mounted at /content/drive\n"
          ]
        }
      ],
      "source": [
        "from google.colab import drive\n",
        "drive.mount('/content/drive')"
      ]
    },
    {
      "cell_type": "code",
      "source": [
        "import xarray as xr\n",
        "import numpy as np\n",
        "import os\n",
        "from tensorflow.keras.models import load_model\n",
        "import matplotlib.pyplot as plt\n",
        "from sklearn.metrics import r2_score\n",
        "from tensorflow.keras.models import Sequential\n",
        "from tensorflow.keras.layers import LSTM, Dense\n",
        "from tensorflow.keras.optimizers import Adam\n",
        "from tensorflow.keras.models import load_model"
      ],
      "metadata": {
        "id": "mLZ77PWzj_uZ"
      },
      "execution_count": 2,
      "outputs": []
    },
    {
      "cell_type": "code",
      "source": [
        "# !pip install cartopy"
      ],
      "metadata": {
        "colab": {
          "base_uri": "https://localhost:8080/"
        },
        "id": "pHLQZhbpV9F7",
        "outputId": "0975f7d7-efe1-4538-8025-c6d646b0d0e1"
      },
      "execution_count": 31,
      "outputs": [
        {
          "output_type": "stream",
          "name": "stdout",
          "text": [
            "Collecting cartopy\n",
            "  Downloading Cartopy-0.24.1-cp311-cp311-manylinux_2_17_x86_64.manylinux2014_x86_64.whl.metadata (7.9 kB)\n",
            "Requirement already satisfied: numpy>=1.23 in /usr/local/lib/python3.11/dist-packages (from cartopy) (2.0.2)\n",
            "Requirement already satisfied: matplotlib>=3.6 in /usr/local/lib/python3.11/dist-packages (from cartopy) (3.10.0)\n",
            "Requirement already satisfied: shapely>=1.8 in /usr/local/lib/python3.11/dist-packages (from cartopy) (2.1.0)\n",
            "Requirement already satisfied: packaging>=21 in /usr/local/lib/python3.11/dist-packages (from cartopy) (24.2)\n",
            "Requirement already satisfied: pyshp>=2.3 in /usr/local/lib/python3.11/dist-packages (from cartopy) (2.3.1)\n",
            "Requirement already satisfied: pyproj>=3.3.1 in /usr/local/lib/python3.11/dist-packages (from cartopy) (3.7.1)\n",
            "Requirement already satisfied: contourpy>=1.0.1 in /usr/local/lib/python3.11/dist-packages (from matplotlib>=3.6->cartopy) (1.3.2)\n",
            "Requirement already satisfied: cycler>=0.10 in /usr/local/lib/python3.11/dist-packages (from matplotlib>=3.6->cartopy) (0.12.1)\n",
            "Requirement already satisfied: fonttools>=4.22.0 in /usr/local/lib/python3.11/dist-packages (from matplotlib>=3.6->cartopy) (4.57.0)\n",
            "Requirement already satisfied: kiwisolver>=1.3.1 in /usr/local/lib/python3.11/dist-packages (from matplotlib>=3.6->cartopy) (1.4.8)\n",
            "Requirement already satisfied: pillow>=8 in /usr/local/lib/python3.11/dist-packages (from matplotlib>=3.6->cartopy) (11.2.1)\n",
            "Requirement already satisfied: pyparsing>=2.3.1 in /usr/local/lib/python3.11/dist-packages (from matplotlib>=3.6->cartopy) (3.2.3)\n",
            "Requirement already satisfied: python-dateutil>=2.7 in /usr/local/lib/python3.11/dist-packages (from matplotlib>=3.6->cartopy) (2.9.0.post0)\n",
            "Requirement already satisfied: certifi in /usr/local/lib/python3.11/dist-packages (from pyproj>=3.3.1->cartopy) (2025.4.26)\n",
            "Requirement already satisfied: six>=1.5 in /usr/local/lib/python3.11/dist-packages (from python-dateutil>=2.7->matplotlib>=3.6->cartopy) (1.17.0)\n",
            "Downloading Cartopy-0.24.1-cp311-cp311-manylinux_2_17_x86_64.manylinux2014_x86_64.whl (11.7 MB)\n",
            "\u001b[2K   \u001b[90m━━━━━━━━━━━━━━━━━━━━━━━━━━━━━━━━━━━━━━━━\u001b[0m \u001b[32m11.7/11.7 MB\u001b[0m \u001b[31m43.5 MB/s\u001b[0m eta \u001b[36m0:00:00\u001b[0m\n",
            "\u001b[?25hInstalling collected packages: cartopy\n",
            "Successfully installed cartopy-0.24.1\n"
          ]
        }
      ]
    },
    {
      "cell_type": "code",
      "source": [
        "ds = xr.open_dataset(\"/content/drive/MyDrive/prerna_data/hadgem_aviso.nc\", decode_times=False, engine=\"h5netcdf\")\n",
        "ds = ds.mean(dim=\"ensemble_member\")\n",
        "\n",
        "X_in = ds.DSL.fillna(0).values\n",
        "y_in = ds.avisodsl.fillna(0).values\n"
      ],
      "metadata": {
        "id": "I1N0N_2EI99p"
      },
      "execution_count": 3,
      "outputs": []
    },
    {
      "cell_type": "code",
      "source": [
        "ds"
      ],
      "metadata": {
        "colab": {
          "base_uri": "https://localhost:8080/",
          "height": 321
        },
        "id": "utrPu1vo_jZO",
        "outputId": "01736674-e082-41ed-e03d-c0c64168e009"
      },
      "execution_count": 4,
      "outputs": [
        {
          "output_type": "execute_result",
          "data": {
            "text/plain": [
              "<xarray.Dataset> Size: 365MB\n",
              "Dimensions:            (TIME: 264, LATITUDE241_480: 240, LONGITUDE841_1200: 360)\n",
              "Coordinates:\n",
              "  * TIME               (TIME) float64 2kB 5.15e+04 5.152e+04 ... 5.938e+04\n",
              "  * LATITUDE241_480    (LATITUDE241_480) float32 960B -29.88 -29.62 ... 29.88\n",
              "  * LONGITUDE841_1200  (LONGITUDE841_1200) float32 1kB 30.12 30.38 ... 119.9\n",
              "Data variables:\n",
              "    DSL                (TIME, LATITUDE241_480, LONGITUDE841_1200) float64 182MB ...\n",
              "    avisodsl           (TIME, LATITUDE241_480, LONGITUDE841_1200) float64 182MB ..."
            ],
            "text/html": [
              "<div><svg style=\"position: absolute; width: 0; height: 0; overflow: hidden\">\n",
              "<defs>\n",
              "<symbol id=\"icon-database\" viewBox=\"0 0 32 32\">\n",
              "<path d=\"M16 0c-8.837 0-16 2.239-16 5v4c0 2.761 7.163 5 16 5s16-2.239 16-5v-4c0-2.761-7.163-5-16-5z\"></path>\n",
              "<path d=\"M16 17c-8.837 0-16-2.239-16-5v6c0 2.761 7.163 5 16 5s16-2.239 16-5v-6c0 2.761-7.163 5-16 5z\"></path>\n",
              "<path d=\"M16 26c-8.837 0-16-2.239-16-5v6c0 2.761 7.163 5 16 5s16-2.239 16-5v-6c0 2.761-7.163 5-16 5z\"></path>\n",
              "</symbol>\n",
              "<symbol id=\"icon-file-text2\" viewBox=\"0 0 32 32\">\n",
              "<path d=\"M28.681 7.159c-0.694-0.947-1.662-2.053-2.724-3.116s-2.169-2.030-3.116-2.724c-1.612-1.182-2.393-1.319-2.841-1.319h-15.5c-1.378 0-2.5 1.121-2.5 2.5v27c0 1.378 1.122 2.5 2.5 2.5h23c1.378 0 2.5-1.122 2.5-2.5v-19.5c0-0.448-0.137-1.23-1.319-2.841zM24.543 5.457c0.959 0.959 1.712 1.825 2.268 2.543h-4.811v-4.811c0.718 0.556 1.584 1.309 2.543 2.268zM28 29.5c0 0.271-0.229 0.5-0.5 0.5h-23c-0.271 0-0.5-0.229-0.5-0.5v-27c0-0.271 0.229-0.5 0.5-0.5 0 0 15.499-0 15.5 0v7c0 0.552 0.448 1 1 1h7v19.5z\"></path>\n",
              "<path d=\"M23 26h-14c-0.552 0-1-0.448-1-1s0.448-1 1-1h14c0.552 0 1 0.448 1 1s-0.448 1-1 1z\"></path>\n",
              "<path d=\"M23 22h-14c-0.552 0-1-0.448-1-1s0.448-1 1-1h14c0.552 0 1 0.448 1 1s-0.448 1-1 1z\"></path>\n",
              "<path d=\"M23 18h-14c-0.552 0-1-0.448-1-1s0.448-1 1-1h14c0.552 0 1 0.448 1 1s-0.448 1-1 1z\"></path>\n",
              "</symbol>\n",
              "</defs>\n",
              "</svg>\n",
              "<style>/* CSS stylesheet for displaying xarray objects in jupyterlab.\n",
              " *\n",
              " */\n",
              "\n",
              ":root {\n",
              "  --xr-font-color0: var(--jp-content-font-color0, rgba(0, 0, 0, 1));\n",
              "  --xr-font-color2: var(--jp-content-font-color2, rgba(0, 0, 0, 0.54));\n",
              "  --xr-font-color3: var(--jp-content-font-color3, rgba(0, 0, 0, 0.38));\n",
              "  --xr-border-color: var(--jp-border-color2, #e0e0e0);\n",
              "  --xr-disabled-color: var(--jp-layout-color3, #bdbdbd);\n",
              "  --xr-background-color: var(--jp-layout-color0, white);\n",
              "  --xr-background-color-row-even: var(--jp-layout-color1, white);\n",
              "  --xr-background-color-row-odd: var(--jp-layout-color2, #eeeeee);\n",
              "}\n",
              "\n",
              "html[theme=\"dark\"],\n",
              "html[data-theme=\"dark\"],\n",
              "body[data-theme=\"dark\"],\n",
              "body.vscode-dark {\n",
              "  --xr-font-color0: rgba(255, 255, 255, 1);\n",
              "  --xr-font-color2: rgba(255, 255, 255, 0.54);\n",
              "  --xr-font-color3: rgba(255, 255, 255, 0.38);\n",
              "  --xr-border-color: #1f1f1f;\n",
              "  --xr-disabled-color: #515151;\n",
              "  --xr-background-color: #111111;\n",
              "  --xr-background-color-row-even: #111111;\n",
              "  --xr-background-color-row-odd: #313131;\n",
              "}\n",
              "\n",
              ".xr-wrap {\n",
              "  display: block !important;\n",
              "  min-width: 300px;\n",
              "  max-width: 700px;\n",
              "}\n",
              "\n",
              ".xr-text-repr-fallback {\n",
              "  /* fallback to plain text repr when CSS is not injected (untrusted notebook) */\n",
              "  display: none;\n",
              "}\n",
              "\n",
              ".xr-header {\n",
              "  padding-top: 6px;\n",
              "  padding-bottom: 6px;\n",
              "  margin-bottom: 4px;\n",
              "  border-bottom: solid 1px var(--xr-border-color);\n",
              "}\n",
              "\n",
              ".xr-header > div,\n",
              ".xr-header > ul {\n",
              "  display: inline;\n",
              "  margin-top: 0;\n",
              "  margin-bottom: 0;\n",
              "}\n",
              "\n",
              ".xr-obj-type,\n",
              ".xr-array-name {\n",
              "  margin-left: 2px;\n",
              "  margin-right: 10px;\n",
              "}\n",
              "\n",
              ".xr-obj-type {\n",
              "  color: var(--xr-font-color2);\n",
              "}\n",
              "\n",
              ".xr-sections {\n",
              "  padding-left: 0 !important;\n",
              "  display: grid;\n",
              "  grid-template-columns: 150px auto auto 1fr 0 20px 0 20px;\n",
              "}\n",
              "\n",
              ".xr-section-item {\n",
              "  display: contents;\n",
              "}\n",
              "\n",
              ".xr-section-item input {\n",
              "  display: inline-block;\n",
              "  opacity: 0;\n",
              "  height: 0;\n",
              "}\n",
              "\n",
              ".xr-section-item input + label {\n",
              "  color: var(--xr-disabled-color);\n",
              "}\n",
              "\n",
              ".xr-section-item input:enabled + label {\n",
              "  cursor: pointer;\n",
              "  color: var(--xr-font-color2);\n",
              "}\n",
              "\n",
              ".xr-section-item input:focus + label {\n",
              "  border: 2px solid var(--xr-font-color0);\n",
              "}\n",
              "\n",
              ".xr-section-item input:enabled + label:hover {\n",
              "  color: var(--xr-font-color0);\n",
              "}\n",
              "\n",
              ".xr-section-summary {\n",
              "  grid-column: 1;\n",
              "  color: var(--xr-font-color2);\n",
              "  font-weight: 500;\n",
              "}\n",
              "\n",
              ".xr-section-summary > span {\n",
              "  display: inline-block;\n",
              "  padding-left: 0.5em;\n",
              "}\n",
              "\n",
              ".xr-section-summary-in:disabled + label {\n",
              "  color: var(--xr-font-color2);\n",
              "}\n",
              "\n",
              ".xr-section-summary-in + label:before {\n",
              "  display: inline-block;\n",
              "  content: \"►\";\n",
              "  font-size: 11px;\n",
              "  width: 15px;\n",
              "  text-align: center;\n",
              "}\n",
              "\n",
              ".xr-section-summary-in:disabled + label:before {\n",
              "  color: var(--xr-disabled-color);\n",
              "}\n",
              "\n",
              ".xr-section-summary-in:checked + label:before {\n",
              "  content: \"▼\";\n",
              "}\n",
              "\n",
              ".xr-section-summary-in:checked + label > span {\n",
              "  display: none;\n",
              "}\n",
              "\n",
              ".xr-section-summary,\n",
              ".xr-section-inline-details {\n",
              "  padding-top: 4px;\n",
              "  padding-bottom: 4px;\n",
              "}\n",
              "\n",
              ".xr-section-inline-details {\n",
              "  grid-column: 2 / -1;\n",
              "}\n",
              "\n",
              ".xr-section-details {\n",
              "  display: none;\n",
              "  grid-column: 1 / -1;\n",
              "  margin-bottom: 5px;\n",
              "}\n",
              "\n",
              ".xr-section-summary-in:checked ~ .xr-section-details {\n",
              "  display: contents;\n",
              "}\n",
              "\n",
              ".xr-array-wrap {\n",
              "  grid-column: 1 / -1;\n",
              "  display: grid;\n",
              "  grid-template-columns: 20px auto;\n",
              "}\n",
              "\n",
              ".xr-array-wrap > label {\n",
              "  grid-column: 1;\n",
              "  vertical-align: top;\n",
              "}\n",
              "\n",
              ".xr-preview {\n",
              "  color: var(--xr-font-color3);\n",
              "}\n",
              "\n",
              ".xr-array-preview,\n",
              ".xr-array-data {\n",
              "  padding: 0 5px !important;\n",
              "  grid-column: 2;\n",
              "}\n",
              "\n",
              ".xr-array-data,\n",
              ".xr-array-in:checked ~ .xr-array-preview {\n",
              "  display: none;\n",
              "}\n",
              "\n",
              ".xr-array-in:checked ~ .xr-array-data,\n",
              ".xr-array-preview {\n",
              "  display: inline-block;\n",
              "}\n",
              "\n",
              ".xr-dim-list {\n",
              "  display: inline-block !important;\n",
              "  list-style: none;\n",
              "  padding: 0 !important;\n",
              "  margin: 0;\n",
              "}\n",
              "\n",
              ".xr-dim-list li {\n",
              "  display: inline-block;\n",
              "  padding: 0;\n",
              "  margin: 0;\n",
              "}\n",
              "\n",
              ".xr-dim-list:before {\n",
              "  content: \"(\";\n",
              "}\n",
              "\n",
              ".xr-dim-list:after {\n",
              "  content: \")\";\n",
              "}\n",
              "\n",
              ".xr-dim-list li:not(:last-child):after {\n",
              "  content: \",\";\n",
              "  padding-right: 5px;\n",
              "}\n",
              "\n",
              ".xr-has-index {\n",
              "  font-weight: bold;\n",
              "}\n",
              "\n",
              ".xr-var-list,\n",
              ".xr-var-item {\n",
              "  display: contents;\n",
              "}\n",
              "\n",
              ".xr-var-item > div,\n",
              ".xr-var-item label,\n",
              ".xr-var-item > .xr-var-name span {\n",
              "  background-color: var(--xr-background-color-row-even);\n",
              "  margin-bottom: 0;\n",
              "}\n",
              "\n",
              ".xr-var-item > .xr-var-name:hover span {\n",
              "  padding-right: 5px;\n",
              "}\n",
              "\n",
              ".xr-var-list > li:nth-child(odd) > div,\n",
              ".xr-var-list > li:nth-child(odd) > label,\n",
              ".xr-var-list > li:nth-child(odd) > .xr-var-name span {\n",
              "  background-color: var(--xr-background-color-row-odd);\n",
              "}\n",
              "\n",
              ".xr-var-name {\n",
              "  grid-column: 1;\n",
              "}\n",
              "\n",
              ".xr-var-dims {\n",
              "  grid-column: 2;\n",
              "}\n",
              "\n",
              ".xr-var-dtype {\n",
              "  grid-column: 3;\n",
              "  text-align: right;\n",
              "  color: var(--xr-font-color2);\n",
              "}\n",
              "\n",
              ".xr-var-preview {\n",
              "  grid-column: 4;\n",
              "}\n",
              "\n",
              ".xr-index-preview {\n",
              "  grid-column: 2 / 5;\n",
              "  color: var(--xr-font-color2);\n",
              "}\n",
              "\n",
              ".xr-var-name,\n",
              ".xr-var-dims,\n",
              ".xr-var-dtype,\n",
              ".xr-preview,\n",
              ".xr-attrs dt {\n",
              "  white-space: nowrap;\n",
              "  overflow: hidden;\n",
              "  text-overflow: ellipsis;\n",
              "  padding-right: 10px;\n",
              "}\n",
              "\n",
              ".xr-var-name:hover,\n",
              ".xr-var-dims:hover,\n",
              ".xr-var-dtype:hover,\n",
              ".xr-attrs dt:hover {\n",
              "  overflow: visible;\n",
              "  width: auto;\n",
              "  z-index: 1;\n",
              "}\n",
              "\n",
              ".xr-var-attrs,\n",
              ".xr-var-data,\n",
              ".xr-index-data {\n",
              "  display: none;\n",
              "  background-color: var(--xr-background-color) !important;\n",
              "  padding-bottom: 5px !important;\n",
              "}\n",
              "\n",
              ".xr-var-attrs-in:checked ~ .xr-var-attrs,\n",
              ".xr-var-data-in:checked ~ .xr-var-data,\n",
              ".xr-index-data-in:checked ~ .xr-index-data {\n",
              "  display: block;\n",
              "}\n",
              "\n",
              ".xr-var-data > table {\n",
              "  float: right;\n",
              "}\n",
              "\n",
              ".xr-var-name span,\n",
              ".xr-var-data,\n",
              ".xr-index-name div,\n",
              ".xr-index-data,\n",
              ".xr-attrs {\n",
              "  padding-left: 25px !important;\n",
              "}\n",
              "\n",
              ".xr-attrs,\n",
              ".xr-var-attrs,\n",
              ".xr-var-data,\n",
              ".xr-index-data {\n",
              "  grid-column: 1 / -1;\n",
              "}\n",
              "\n",
              "dl.xr-attrs {\n",
              "  padding: 0;\n",
              "  margin: 0;\n",
              "  display: grid;\n",
              "  grid-template-columns: 125px auto;\n",
              "}\n",
              "\n",
              ".xr-attrs dt,\n",
              ".xr-attrs dd {\n",
              "  padding: 0;\n",
              "  margin: 0;\n",
              "  float: left;\n",
              "  padding-right: 10px;\n",
              "  width: auto;\n",
              "}\n",
              "\n",
              ".xr-attrs dt {\n",
              "  font-weight: normal;\n",
              "  grid-column: 1;\n",
              "}\n",
              "\n",
              ".xr-attrs dt:hover span {\n",
              "  display: inline-block;\n",
              "  background: var(--xr-background-color);\n",
              "  padding-right: 10px;\n",
              "}\n",
              "\n",
              ".xr-attrs dd {\n",
              "  grid-column: 2;\n",
              "  white-space: pre-wrap;\n",
              "  word-break: break-all;\n",
              "}\n",
              "\n",
              ".xr-icon-database,\n",
              ".xr-icon-file-text2,\n",
              ".xr-no-icon {\n",
              "  display: inline-block;\n",
              "  vertical-align: middle;\n",
              "  width: 1em;\n",
              "  height: 1.5em !important;\n",
              "  stroke-width: 0;\n",
              "  stroke: currentColor;\n",
              "  fill: currentColor;\n",
              "}\n",
              "</style><pre class='xr-text-repr-fallback'>&lt;xarray.Dataset&gt; Size: 365MB\n",
              "Dimensions:            (TIME: 264, LATITUDE241_480: 240, LONGITUDE841_1200: 360)\n",
              "Coordinates:\n",
              "  * TIME               (TIME) float64 2kB 5.15e+04 5.152e+04 ... 5.938e+04\n",
              "  * LATITUDE241_480    (LATITUDE241_480) float32 960B -29.88 -29.62 ... 29.88\n",
              "  * LONGITUDE841_1200  (LONGITUDE841_1200) float32 1kB 30.12 30.38 ... 119.9\n",
              "Data variables:\n",
              "    DSL                (TIME, LATITUDE241_480, LONGITUDE841_1200) float64 182MB ...\n",
              "    avisodsl           (TIME, LATITUDE241_480, LONGITUDE841_1200) float64 182MB ...</pre><div class='xr-wrap' style='display:none'><div class='xr-header'><div class='xr-obj-type'>xarray.Dataset</div></div><ul class='xr-sections'><li class='xr-section-item'><input id='section-588d4033-8ebd-40bb-ae59-07937738b8e6' class='xr-section-summary-in' type='checkbox' disabled ><label for='section-588d4033-8ebd-40bb-ae59-07937738b8e6' class='xr-section-summary'  title='Expand/collapse section'>Dimensions:</label><div class='xr-section-inline-details'><ul class='xr-dim-list'><li><span class='xr-has-index'>TIME</span>: 264</li><li><span class='xr-has-index'>LATITUDE241_480</span>: 240</li><li><span class='xr-has-index'>LONGITUDE841_1200</span>: 360</li></ul></div><div class='xr-section-details'></div></li><li class='xr-section-item'><input id='section-de8db49d-4ecc-4f1e-8d88-ea517214aaa3' class='xr-section-summary-in' type='checkbox'  checked><label for='section-de8db49d-4ecc-4f1e-8d88-ea517214aaa3' class='xr-section-summary' >Coordinates: <span>(3)</span></label><div class='xr-section-inline-details'></div><div class='xr-section-details'><ul class='xr-var-list'><li class='xr-var-item'><div class='xr-var-name'><span class='xr-has-index'>TIME</span></div><div class='xr-var-dims'>(TIME)</div><div class='xr-var-dtype'>float64</div><div class='xr-var-preview xr-preview'>5.15e+04 5.152e+04 ... 5.938e+04</div><input id='attrs-f90eec95-935b-4952-a353-f7f88cce84e7' class='xr-var-attrs-in' type='checkbox' ><label for='attrs-f90eec95-935b-4952-a353-f7f88cce84e7' title='Show/Hide attributes'><svg class='icon xr-icon-file-text2'><use xlink:href='#icon-file-text2'></use></svg></label><input id='data-31b72718-dce2-4d22-996b-55c456760e5f' class='xr-var-data-in' type='checkbox'><label for='data-31b72718-dce2-4d22-996b-55c456760e5f' title='Show/Hide data repr'><svg class='icon xr-icon-database'><use xlink:href='#icon-database'></use></svg></label><div class='xr-var-attrs'><dl class='xr-attrs'><dt><span>standard_name :</span></dt><dd>time</dd><dt><span>long_name :</span></dt><dd>time</dd><dt><span>axis :</span></dt><dd>T</dd><dt><span>units :</span></dt><dd>days since 1850-01-01</dd><dt><span>calendar :</span></dt><dd>360_day</dd></dl></div><div class='xr-var-data'><pre>array([51495., 51525., 51555., ..., 59325., 59355., 59385.])</pre></div></li><li class='xr-var-item'><div class='xr-var-name'><span class='xr-has-index'>LATITUDE241_480</span></div><div class='xr-var-dims'>(LATITUDE241_480)</div><div class='xr-var-dtype'>float32</div><div class='xr-var-preview xr-preview'>-29.88 -29.62 ... 29.62 29.88</div><input id='attrs-2c15997f-542c-45e1-b77a-6dd0cebe50cd' class='xr-var-attrs-in' type='checkbox' disabled><label for='attrs-2c15997f-542c-45e1-b77a-6dd0cebe50cd' title='Show/Hide attributes'><svg class='icon xr-icon-file-text2'><use xlink:href='#icon-file-text2'></use></svg></label><input id='data-9916d1e5-7b48-4c86-9e80-a1a80993d5a2' class='xr-var-data-in' type='checkbox'><label for='data-9916d1e5-7b48-4c86-9e80-a1a80993d5a2' title='Show/Hide data repr'><svg class='icon xr-icon-database'><use xlink:href='#icon-database'></use></svg></label><div class='xr-var-attrs'><dl class='xr-attrs'></dl></div><div class='xr-var-data'><pre>array([-29.875, -29.625, -29.375, ...,  29.375,  29.625,  29.875],\n",
              "      dtype=float32)</pre></div></li><li class='xr-var-item'><div class='xr-var-name'><span class='xr-has-index'>LONGITUDE841_1200</span></div><div class='xr-var-dims'>(LONGITUDE841_1200)</div><div class='xr-var-dtype'>float32</div><div class='xr-var-preview xr-preview'>30.12 30.38 30.62 ... 119.6 119.9</div><input id='attrs-3e75949f-a72f-4632-963e-7a0537c15f7a' class='xr-var-attrs-in' type='checkbox' disabled><label for='attrs-3e75949f-a72f-4632-963e-7a0537c15f7a' title='Show/Hide attributes'><svg class='icon xr-icon-file-text2'><use xlink:href='#icon-file-text2'></use></svg></label><input id='data-aa9cd942-778d-4dd8-bf90-0210415300cc' class='xr-var-data-in' type='checkbox'><label for='data-aa9cd942-778d-4dd8-bf90-0210415300cc' title='Show/Hide data repr'><svg class='icon xr-icon-database'><use xlink:href='#icon-database'></use></svg></label><div class='xr-var-attrs'><dl class='xr-attrs'></dl></div><div class='xr-var-data'><pre>array([ 30.125,  30.375,  30.625, ..., 119.375, 119.625, 119.875],\n",
              "      dtype=float32)</pre></div></li></ul></div></li><li class='xr-section-item'><input id='section-16c854b3-c299-45a7-a9d9-26f82f0dc973' class='xr-section-summary-in' type='checkbox'  checked><label for='section-16c854b3-c299-45a7-a9d9-26f82f0dc973' class='xr-section-summary' >Data variables: <span>(2)</span></label><div class='xr-section-inline-details'></div><div class='xr-section-details'><ul class='xr-var-list'><li class='xr-var-item'><div class='xr-var-name'><span>DSL</span></div><div class='xr-var-dims'>(TIME, LATITUDE241_480, LONGITUDE841_1200)</div><div class='xr-var-dtype'>float64</div><div class='xr-var-preview xr-preview'>nan nan nan nan ... nan nan nan nan</div><input id='attrs-3462a4cb-2c83-4afd-aa1e-b7db13ac2b6b' class='xr-var-attrs-in' type='checkbox' disabled><label for='attrs-3462a4cb-2c83-4afd-aa1e-b7db13ac2b6b' title='Show/Hide attributes'><svg class='icon xr-icon-file-text2'><use xlink:href='#icon-file-text2'></use></svg></label><input id='data-40e7c62f-8cc3-4003-8214-8eee31ca1e85' class='xr-var-data-in' type='checkbox'><label for='data-40e7c62f-8cc3-4003-8214-8eee31ca1e85' title='Show/Hide data repr'><svg class='icon xr-icon-database'><use xlink:href='#icon-database'></use></svg></label><div class='xr-var-attrs'><dl class='xr-attrs'></dl></div><div class='xr-var-data'><pre>array([[[nan, nan, nan, ..., nan, nan, nan],\n",
              "        [nan, nan, nan, ..., nan, nan, nan],\n",
              "        [nan, nan, nan, ..., nan, nan, nan],\n",
              "        ...,\n",
              "        [nan, nan, nan, ..., nan, nan, nan],\n",
              "        [nan, nan, nan, ..., nan, nan, nan],\n",
              "        [nan, nan, nan, ..., nan, nan, nan]],\n",
              "\n",
              "       [[nan, nan, nan, ..., nan, nan, nan],\n",
              "        [nan, nan, nan, ..., nan, nan, nan],\n",
              "        [nan, nan, nan, ..., nan, nan, nan],\n",
              "        ...,\n",
              "        [nan, nan, nan, ..., nan, nan, nan],\n",
              "        [nan, nan, nan, ..., nan, nan, nan],\n",
              "        [nan, nan, nan, ..., nan, nan, nan]],\n",
              "\n",
              "       [[nan, nan, nan, ..., nan, nan, nan],\n",
              "        [nan, nan, nan, ..., nan, nan, nan],\n",
              "        [nan, nan, nan, ..., nan, nan, nan],\n",
              "        ...,\n",
              "...\n",
              "        ...,\n",
              "        [nan, nan, nan, ..., nan, nan, nan],\n",
              "        [nan, nan, nan, ..., nan, nan, nan],\n",
              "        [nan, nan, nan, ..., nan, nan, nan]],\n",
              "\n",
              "       [[nan, nan, nan, ..., nan, nan, nan],\n",
              "        [nan, nan, nan, ..., nan, nan, nan],\n",
              "        [nan, nan, nan, ..., nan, nan, nan],\n",
              "        ...,\n",
              "        [nan, nan, nan, ..., nan, nan, nan],\n",
              "        [nan, nan, nan, ..., nan, nan, nan],\n",
              "        [nan, nan, nan, ..., nan, nan, nan]],\n",
              "\n",
              "       [[nan, nan, nan, ..., nan, nan, nan],\n",
              "        [nan, nan, nan, ..., nan, nan, nan],\n",
              "        [nan, nan, nan, ..., nan, nan, nan],\n",
              "        ...,\n",
              "        [nan, nan, nan, ..., nan, nan, nan],\n",
              "        [nan, nan, nan, ..., nan, nan, nan],\n",
              "        [nan, nan, nan, ..., nan, nan, nan]]])</pre></div></li><li class='xr-var-item'><div class='xr-var-name'><span>avisodsl</span></div><div class='xr-var-dims'>(TIME, LATITUDE241_480, LONGITUDE841_1200)</div><div class='xr-var-dtype'>float64</div><div class='xr-var-preview xr-preview'>nan nan nan nan ... nan nan nan nan</div><input id='attrs-0af5f84c-a20d-42ea-a8fc-746118d24daf' class='xr-var-attrs-in' type='checkbox' disabled><label for='attrs-0af5f84c-a20d-42ea-a8fc-746118d24daf' title='Show/Hide attributes'><svg class='icon xr-icon-file-text2'><use xlink:href='#icon-file-text2'></use></svg></label><input id='data-1c3875e0-6063-4fac-a61d-21958aea441d' class='xr-var-data-in' type='checkbox'><label for='data-1c3875e0-6063-4fac-a61d-21958aea441d' title='Show/Hide data repr'><svg class='icon xr-icon-database'><use xlink:href='#icon-database'></use></svg></label><div class='xr-var-attrs'><dl class='xr-attrs'></dl></div><div class='xr-var-data'><pre>array([[[nan, nan, nan, ..., nan, nan, nan],\n",
              "        [nan, nan, nan, ..., nan, nan, nan],\n",
              "        [nan, nan, nan, ..., nan, nan, nan],\n",
              "        ...,\n",
              "        [nan, nan, nan, ..., nan, nan, nan],\n",
              "        [nan, nan, nan, ..., nan, nan, nan],\n",
              "        [nan, nan, nan, ..., nan, nan, nan]],\n",
              "\n",
              "       [[nan, nan, nan, ..., nan, nan, nan],\n",
              "        [nan, nan, nan, ..., nan, nan, nan],\n",
              "        [nan, nan, nan, ..., nan, nan, nan],\n",
              "        ...,\n",
              "        [nan, nan, nan, ..., nan, nan, nan],\n",
              "        [nan, nan, nan, ..., nan, nan, nan],\n",
              "        [nan, nan, nan, ..., nan, nan, nan]],\n",
              "\n",
              "       [[nan, nan, nan, ..., nan, nan, nan],\n",
              "        [nan, nan, nan, ..., nan, nan, nan],\n",
              "        [nan, nan, nan, ..., nan, nan, nan],\n",
              "        ...,\n",
              "...\n",
              "        ...,\n",
              "        [nan, nan, nan, ..., nan, nan, nan],\n",
              "        [nan, nan, nan, ..., nan, nan, nan],\n",
              "        [nan, nan, nan, ..., nan, nan, nan]],\n",
              "\n",
              "       [[nan, nan, nan, ..., nan, nan, nan],\n",
              "        [nan, nan, nan, ..., nan, nan, nan],\n",
              "        [nan, nan, nan, ..., nan, nan, nan],\n",
              "        ...,\n",
              "        [nan, nan, nan, ..., nan, nan, nan],\n",
              "        [nan, nan, nan, ..., nan, nan, nan],\n",
              "        [nan, nan, nan, ..., nan, nan, nan]],\n",
              "\n",
              "       [[nan, nan, nan, ..., nan, nan, nan],\n",
              "        [nan, nan, nan, ..., nan, nan, nan],\n",
              "        [nan, nan, nan, ..., nan, nan, nan],\n",
              "        ...,\n",
              "        [nan, nan, nan, ..., nan, nan, nan],\n",
              "        [nan, nan, nan, ..., nan, nan, nan],\n",
              "        [nan, nan, nan, ..., nan, nan, nan]]])</pre></div></li></ul></div></li><li class='xr-section-item'><input id='section-6c0906f6-d012-42b9-b857-7cdf507e9284' class='xr-section-summary-in' type='checkbox'  ><label for='section-6c0906f6-d012-42b9-b857-7cdf507e9284' class='xr-section-summary' >Indexes: <span>(3)</span></label><div class='xr-section-inline-details'></div><div class='xr-section-details'><ul class='xr-var-list'><li class='xr-var-item'><div class='xr-index-name'><div>TIME</div></div><div class='xr-index-preview'>PandasIndex</div><input type='checkbox' disabled/><label></label><input id='index-8c2fe7d9-dc5b-49cb-ad54-b8df7849cb16' class='xr-index-data-in' type='checkbox'/><label for='index-8c2fe7d9-dc5b-49cb-ad54-b8df7849cb16' title='Show/Hide index repr'><svg class='icon xr-icon-database'><use xlink:href='#icon-database'></use></svg></label><div class='xr-index-data'><pre>PandasIndex(Index([51495.0, 51525.0, 51555.0, 51585.0, 51615.0, 51645.0, 51675.0, 51705.0,\n",
              "       51735.0, 51765.0,\n",
              "       ...\n",
              "       59115.0, 59145.0, 59175.0, 59205.0, 59235.0, 59265.0, 59295.0, 59325.0,\n",
              "       59355.0, 59385.0],\n",
              "      dtype=&#x27;float64&#x27;, name=&#x27;TIME&#x27;, length=264))</pre></div></li><li class='xr-var-item'><div class='xr-index-name'><div>LATITUDE241_480</div></div><div class='xr-index-preview'>PandasIndex</div><input type='checkbox' disabled/><label></label><input id='index-f3f3f392-1567-42c2-a72b-b98d179e2f89' class='xr-index-data-in' type='checkbox'/><label for='index-f3f3f392-1567-42c2-a72b-b98d179e2f89' title='Show/Hide index repr'><svg class='icon xr-icon-database'><use xlink:href='#icon-database'></use></svg></label><div class='xr-index-data'><pre>PandasIndex(Index([-29.875, -29.625, -29.375, -29.125, -28.875, -28.625, -28.375, -28.125,\n",
              "       -27.875, -27.625,\n",
              "       ...\n",
              "        27.625,  27.875,  28.125,  28.375,  28.625,  28.875,  29.125,  29.375,\n",
              "        29.625,  29.875],\n",
              "      dtype=&#x27;float32&#x27;, name=&#x27;LATITUDE241_480&#x27;, length=240))</pre></div></li><li class='xr-var-item'><div class='xr-index-name'><div>LONGITUDE841_1200</div></div><div class='xr-index-preview'>PandasIndex</div><input type='checkbox' disabled/><label></label><input id='index-31da2cc7-7541-4078-90bd-c291c0f5c25d' class='xr-index-data-in' type='checkbox'/><label for='index-31da2cc7-7541-4078-90bd-c291c0f5c25d' title='Show/Hide index repr'><svg class='icon xr-icon-database'><use xlink:href='#icon-database'></use></svg></label><div class='xr-index-data'><pre>PandasIndex(Index([ 30.125,  30.375,  30.625,  30.875,  31.125,  31.375,  31.625,  31.875,\n",
              "        32.125,  32.375,\n",
              "       ...\n",
              "       117.625, 117.875, 118.125, 118.375, 118.625, 118.875, 119.125, 119.375,\n",
              "       119.625, 119.875],\n",
              "      dtype=&#x27;float32&#x27;, name=&#x27;LONGITUDE841_1200&#x27;, length=360))</pre></div></li></ul></div></li><li class='xr-section-item'><input id='section-e5fe6341-4ebd-4871-a142-91586e3d94b6' class='xr-section-summary-in' type='checkbox' disabled ><label for='section-e5fe6341-4ebd-4871-a142-91586e3d94b6' class='xr-section-summary'  title='Expand/collapse section'>Attributes: <span>(0)</span></label><div class='xr-section-inline-details'></div><div class='xr-section-details'><dl class='xr-attrs'></dl></div></li></ul></div></div>"
            ]
          },
          "metadata": {},
          "execution_count": 4
        }
      ]
    },
    {
      "cell_type": "code",
      "source": [
        "T, H, W = X_in.shape\n",
        "print(f\"Full cube : T={T}, H={H}, W={W}\")#t is time steops, lat, long"
      ],
      "metadata": {
        "colab": {
          "base_uri": "https://localhost:8080/"
        },
        "id": "THK-rYEVKol6",
        "outputId": "8f9732e8-dcfc-477b-abba-2e2797453140"
      },
      "execution_count": 5,
      "outputs": [
        {
          "output_type": "stream",
          "name": "stdout",
          "text": [
            "Full cube : T=264, H=240, W=360\n"
          ]
        }
      ]
    },
    {
      "cell_type": "code",
      "source": [
        "X_in = X_in.reshape(T, -1)\n",
        "y_in = y_in.reshape(T, -1)"
      ],
      "metadata": {
        "id": "RkaXielUKx4P"
      },
      "execution_count": 6,
      "outputs": []
    },
    {
      "cell_type": "code",
      "source": [
        "X_grid = X_in.T     # shape: (H*W, T)\n",
        "y_grid = y_in.T     # shape: (H*W, T)"
      ],
      "metadata": {
        "id": "AT7V2FqJKxsb"
      },
      "execution_count": 7,
      "outputs": []
    },
    {
      "cell_type": "code",
      "source": [
        "n_pixels=X_grid.shape[0]\n",
        "pix_ids      = np.arange(n_pixels)                 # 0 … 86 399\n",
        "rng          = np.random.default_rng(42)        # reproducible\n",
        "rng.shuffle(pix_ids) # permutes the list in‑place; every pixel gets a new random position."
      ],
      "metadata": {
        "id": "a_Qx2cNCK5K0"
      },
      "execution_count": 8,
      "outputs": []
    },
    {
      "cell_type": "code",
      "source": [
        "n_train      = int(0.80 * n_pixels)\n",
        "n_val        = int(0.10 * n_pixels)\n",
        "\n",
        "train_ids    = pix_ids[:n_train]\n",
        "val_ids      = pix_ids[n_train:n_train+n_val]\n",
        "test_ids     = pix_ids[n_train+n_val:]"
      ],
      "metadata": {
        "id": "HIycbu7KLDH6"
      },
      "execution_count": 9,
      "outputs": []
    },
    {
      "cell_type": "code",
      "source": [
        "X_test = X_grid[test_ids]\n",
        "y_test = y_grid[test_ids]"
      ],
      "metadata": {
        "id": "uh03DsbvLDEa"
      },
      "execution_count": 10,
      "outputs": []
    },
    {
      "cell_type": "code",
      "source": [
        "def make_seq(data_grid, target_grid, steps):\n",
        "    Xs, ys = [], []\n",
        "    for gridpoint in range(data_grid.shape[0]):\n",
        "        for t in range(data_grid.shape[1] - steps):\n",
        "            Xs.append(data_grid[gridpoint, t:t+steps])\n",
        "            ys.append(target_grid[gridpoint, t+steps])\n",
        "    return np.array(Xs)[..., np.newaxis], np.array(ys)\n",
        "\n"
      ],
      "metadata": {
        "id": "t03OyvYvLDBs"
      },
      "execution_count": 11,
      "outputs": []
    },
    {
      "cell_type": "code",
      "source": [
        "timesteps = 10\n",
        "X_te, y_te = make_seq(X_test, y_test, timesteps)"
      ],
      "metadata": {
        "id": "Cw_tOOaLLC_O"
      },
      "execution_count": 12,
      "outputs": []
    },
    {
      "cell_type": "code",
      "source": [
        "model = Sequential([\n",
        "    LSTM(64, input_shape=(10, 1)),\n",
        "    Dense(1)\n",
        "])\n",
        "model.compile(optimizer='adam', loss='mse')\n",
        "\n"
      ],
      "metadata": {
        "id": "1055LEWaJ2iC",
        "colab": {
          "base_uri": "https://localhost:8080/"
        },
        "outputId": "e52987f2-2daf-4eec-df9f-67fbdb4277b9"
      },
      "execution_count": 13,
      "outputs": [
        {
          "output_type": "stream",
          "name": "stderr",
          "text": [
            "/usr/local/lib/python3.11/dist-packages/keras/src/layers/rnn/rnn.py:200: UserWarning: Do not pass an `input_shape`/`input_dim` argument to a layer. When using Sequential models, prefer using an `Input(shape)` object as the first layer in the model instead.\n",
            "  super().__init__(**kwargs)\n"
          ]
        }
      ]
    },
    {
      "cell_type": "code",
      "source": [
        "# Load weights only\n",
        "model.load_weights(\"/content/drive/MyDrive/prerna_data/best_model_epoch0999_val0.003711.h5\")\n",
        "\n",
        "# Then test\n",
        "loss = model.evaluate(X_te, y_te, batch_size=2048)\n",
        "print(f\"Test Loss: {loss}\")"
      ],
      "metadata": {
        "colab": {
          "base_uri": "https://localhost:8080/"
        },
        "id": "JhrQYmPZKXU8",
        "outputId": "25134d52-5230-462f-d926-257983310b73"
      },
      "execution_count": 14,
      "outputs": [
        {
          "output_type": "stream",
          "name": "stdout",
          "text": [
            "\u001b[1m1072/1072\u001b[0m \u001b[32m━━━━━━━━━━━━━━━━━━━━\u001b[0m\u001b[37m\u001b[0m \u001b[1m54s\u001b[0m 50ms/step - loss: 0.0037\n",
            "Test Loss: 0.0036235731095075607\n"
          ]
        }
      ]
    },
    {
      "cell_type": "code",
      "source": [
        "predictions = model.predict(X_te)\n",
        "print(\"Predictions shape:\", predictions.shape)  # Expected: (n_samples, 1)\n"
      ],
      "metadata": {
        "colab": {
          "base_uri": "https://localhost:8080/"
        },
        "id": "34V0tGPJKb9O",
        "outputId": "4c17bd3c-f4d5-4341-a441-08a5d74f7802"
      },
      "execution_count": 15,
      "outputs": [
        {
          "output_type": "stream",
          "name": "stdout",
          "text": [
            "\u001b[1m68580/68580\u001b[0m \u001b[32m━━━━━━━━━━━━━━━━━━━━\u001b[0m\u001b[37m\u001b[0m \u001b[1m158s\u001b[0m 2ms/step\n",
            "Predictions shape: (2194560, 1)\n"
          ]
        }
      ]
    },
    {
      "cell_type": "code",
      "source": [
        "y_te.shape"
      ],
      "metadata": {
        "colab": {
          "base_uri": "https://localhost:8080/"
        },
        "id": "XZa1D2TPVpc4",
        "outputId": "df59a13c-7426-4342-9aad-dfd7fdda5822"
      },
      "execution_count": 33,
      "outputs": [
        {
          "output_type": "execute_result",
          "data": {
            "text/plain": [
              "(2194560,)"
            ]
          },
          "metadata": {},
          "execution_count": 33
        }
      ]
    },
    {
      "cell_type": "code",
      "source": [
        "\n",
        "from sklearn.metrics import r2_score\n",
        "# Flatten both arrays to compare all values together\n",
        "r2 = r2_score(y_te.flatten(), predictions.flatten())\n",
        "print(\"R² Score (Overall):\", r2)"
      ],
      "metadata": {
        "colab": {
          "base_uri": "https://localhost:8080/"
        },
        "id": "ZG4_sqAwkRCS",
        "outputId": "277f5c66-aed1-4ab6-b989-0fb8232de8ad"
      },
      "execution_count": 17,
      "outputs": [
        {
          "output_type": "stream",
          "name": "stdout",
          "text": [
            "R² Score (Overall): 0.8194324467643603\n"
          ]
        }
      ]
    },
    {
      "cell_type": "code",
      "source": [
        "from sklearn.metrics import mean_squared_error\n",
        "import numpy as np\n",
        "\n",
        "rmse = np.sqrt(mean_squared_error(y_te.flatten(), predictions.flatten()))\n",
        "print(\"RMSE (Overall):\", rmse)\n"
      ],
      "metadata": {
        "colab": {
          "base_uri": "https://localhost:8080/"
        },
        "id": "GWy2xoU2kQ-6",
        "outputId": "013225d8-66f8-4e2b-8319-88ddced10797"
      },
      "execution_count": 18,
      "outputs": [
        {
          "output_type": "stream",
          "name": "stdout",
          "text": [
            "RMSE (Overall): 0.06019611062917556\n"
          ]
        }
      ]
    },
    {
      "cell_type": "code",
      "source": [
        "from scipy.stats import pearsonr\n",
        "\n",
        "corr, _ = pearsonr(y_te.flatten(), predictions.flatten())\n",
        "print(\"Correlation Coefficient (Overall):\", corr)\n"
      ],
      "metadata": {
        "colab": {
          "base_uri": "https://localhost:8080/"
        },
        "id": "zNOJJTIEkQ8v",
        "outputId": "29467df3-b037-4592-940e-49edfb24adab"
      },
      "execution_count": 19,
      "outputs": [
        {
          "output_type": "stream",
          "name": "stdout",
          "text": [
            "Correlation Coefficient (Overall): 0.9052531683587853\n"
          ]
        }
      ]
    },
    {
      "cell_type": "code",
      "source": [
        "lons = ds.LONGITUDE841_1200.values  # Shape (360,)\n",
        "lats = ds.LATITUDE241_480.values  # Shape (240,)"
      ],
      "metadata": {
        "id": "4ZXRjR7OAqHw"
      },
      "execution_count": 20,
      "outputs": []
    },
    {
      "cell_type": "code",
      "source": [
        "##98e 10 s\n",
        "target_lat, target_lon = -10, 98  # 10°S, 98°E\n",
        "\n",
        "# Find nearest index\n",
        "lat_idx = np.argmin(np.abs(lats - target_lat))\n",
        "lon_idx = np.argmin(np.abs(lons - target_lon))\n",
        "series = ds.DSL[:, lat_idx, lon_idx]  # Shape: (time,)\n",
        "\n",
        "# Check if sufficient non-NaNs exist\n",
        "if np.isnan(series[-timesteps:]).any():\n",
        "    print(\"Not enough valid data for prediction at this point.\")\n",
        "else:\n",
        "    X_point = series[-timesteps:].values.reshape(1, timesteps, 1)  # Convert to NumPy first\n",
        "\n"
      ],
      "metadata": {
        "id": "brxr2FR9kQ6Z"
      },
      "execution_count": 21,
      "outputs": []
    },
    {
      "cell_type": "code",
      "source": [
        "prediction = model.predict(X_point)\n",
        "print(\"Predicted DSL at 98°E, 10°S:\", prediction[0, 0])\n"
      ],
      "metadata": {
        "colab": {
          "base_uri": "https://localhost:8080/"
        },
        "id": "TyMGuLS-kQ4x",
        "outputId": "52e8c946-e279-4c24-bf1a-023a4278f275"
      },
      "execution_count": 22,
      "outputs": [
        {
          "output_type": "stream",
          "name": "stdout",
          "text": [
            "\u001b[1m1/1\u001b[0m \u001b[32m━━━━━━━━━━━━━━━━━━━━\u001b[0m\u001b[37m\u001b[0m \u001b[1m0s\u001b[0m 398ms/step\n",
            "Predicted DSL at 98°E, 10°S: -0.027703673\n"
          ]
        }
      ]
    },
    {
      "cell_type": "code",
      "source": [
        "actuals = ds.DSL.values  # or ds['DSL'].values\n"
      ],
      "metadata": {
        "id": "wcHaA8CDD04q"
      },
      "execution_count": 23,
      "outputs": []
    },
    {
      "cell_type": "code",
      "source": [
        "print(predictions.shape)\n"
      ],
      "metadata": {
        "colab": {
          "base_uri": "https://localhost:8080/"
        },
        "id": "6NCaAI00Ds8v",
        "outputId": "a87076e9-aa6d-4c9d-eaa7-a0f79d1e7b91"
      },
      "execution_count": 24,
      "outputs": [
        {
          "output_type": "stream",
          "name": "stdout",
          "text": [
            "(2194560, 1)\n"
          ]
        }
      ]
    },
    {
      "cell_type": "code",
      "source": [
        "series = ds.DSL[:, lat_idx, lon_idx]\n",
        "target_series = ds.avisodsl[:, lat_idx, lon_idx]\n"
      ],
      "metadata": {
        "id": "zyDh-OQ8Fhrn"
      },
      "execution_count": 25,
      "outputs": []
    },
    {
      "cell_type": "code",
      "source": [
        "input_series = ds.DSL[:, lat_idx, lon_idx]         # HadGEM (input)\n",
        "target_series = ds.avisodsl[:, lat_idx, lon_idx]   # AVISO (target)\n",
        "\n",
        "# Check for valid data in last `timesteps`\n",
        "if np.isnan(input_series[-timesteps:]).any() or np.isnan(target_series[-1]):\n",
        "    print(\"Not enough valid data for prediction at this point.\")\n",
        "else:\n",
        "    X_point = input_series[-timesteps:].values.reshape(1, timesteps, 1)\n",
        "    prediction = model.predict(X_point)\n",
        "\n",
        "    print(\"Predicted AVISO DSL (next timestep):\", prediction[0, 0])\n",
        "    print(\"Actual AVISO DSL:\", target_series[-1].values)\n"
      ],
      "metadata": {
        "colab": {
          "base_uri": "https://localhost:8080/"
        },
        "id": "rVrmzPLXJkKD",
        "outputId": "66ed6192-2a04-46cf-a2a7-403525765449"
      },
      "execution_count": 26,
      "outputs": [
        {
          "output_type": "stream",
          "name": "stdout",
          "text": [
            "\u001b[1m1/1\u001b[0m \u001b[32m━━━━━━━━━━━━━━━━━━━━\u001b[0m\u001b[37m\u001b[0m \u001b[1m0s\u001b[0m 91ms/step\n",
            "Predicted AVISO DSL (next timestep): -0.027703673\n",
            "Actual AVISO DSL: 0.012538470523235645\n"
          ]
        }
      ]
    },
    {
      "cell_type": "code",
      "source": [
        "# Make sure last 10 inputs and target are valid\n",
        "if np.isnan(input_series[-timesteps:]).any() or np.isnan(target_series[-1]):\n",
        "    print(\"Not enough valid data for prediction at this point.\")\n",
        "else:\n",
        "    X_point = input_series[-timesteps:].values.reshape(1, timesteps, 1)\n",
        "    prediction = model.predict(X_point)\n",
        "\n",
        "    actual_target = target_series[-1].values\n",
        "\n",
        "    # Visualization\n",
        "    past_inputs = input_series[-timesteps:].values.flatten()\n",
        "\n",
        "    plt.figure(figsize=(8, 4))\n",
        "    plt.plot(range(timesteps), past_inputs, marker='o', label=\"HadGEM DSL (Input)\")\n",
        "    plt.axvline(timesteps - 1, color='gray', linestyle='--', label=\"Prediction point\")\n",
        "    plt.plot(timesteps, actual_target, marker='o', color='green', label=\"AVISO DSL (Actual)\")\n",
        "    plt.plot(timesteps, prediction[0, 0], marker='x', color='red', markersize=10, label=\"AVISO DSL (Predicted)\")\n",
        "\n",
        "    plt.title(\"Next-step AVISO DSL Prediction at 98°E, 10°S\")\n",
        "    plt.xlabel(\"Timestep\")\n",
        "    plt.ylabel(\"DSL Value\")\n",
        "    plt.legend()\n",
        "    plt.grid(True)\n",
        "    plt.tight_layout()\n",
        "    plt.show()"
      ],
      "metadata": {
        "colab": {
          "base_uri": "https://localhost:8080/",
          "height": 424
        },
        "id": "_PF_5rYuJmzj",
        "outputId": "0afe6ee9-ea80-48ef-d747-42262d01cdaa"
      },
      "execution_count": 27,
      "outputs": [
        {
          "output_type": "stream",
          "name": "stdout",
          "text": [
            "\u001b[1m1/1\u001b[0m \u001b[32m━━━━━━━━━━━━━━━━━━━━\u001b[0m\u001b[37m\u001b[0m \u001b[1m0s\u001b[0m 67ms/step\n"
          ]
        },
        {
          "output_type": "display_data",
          "data": {
            "text/plain": [
              "<Figure size 800x400 with 1 Axes>"
            ],
            "image/png": "[encoded data removed]"
          },
          "metadata": {}
        }
      ]
    },
    {
      "cell_type": "code",
      "source": [
        "##plot on a map"
      ],
      "metadata": {
        "id": "YGHQd0CcJyV_"
      },
      "execution_count": 34,
      "outputs": []
    },
    {
      "cell_type": "code",
      "source": [
        "n_timesteps = 10\n",
        "n_samples_per_pixel = 264 - n_timesteps  # = 254\n",
        "pixel_index = idx // n_samples_per_pixel\n",
        "time_offset = idx % n_samples_per_pixel\n"
      ],
      "metadata": {
        "id": "X9D0ywNWXnI8"
      },
      "execution_count": 35,
      "outputs": []
    },
    {
      "cell_type": "code",
      "source": [
        "pixel_id = test_ids[pixel_index]  # gives value from 0 to 86399\n"
      ],
      "metadata": {
        "id": "zp9s-H3JXoAB"
      },
      "execution_count": 36,
      "outputs": []
    },
    {
      "cell_type": "code",
      "source": [
        "lat_idx = pixel_id // 360\n",
        "lon_idx = pixel_id % 360\n",
        "lat = lats[lat_idx]   # from ds.LATITUDE241_480.values\n",
        "lon = lons[lon_idx]   # from ds.LONGITUDE841_1200.values\n"
      ],
      "metadata": {
        "id": "QBAhbNGeXp3a"
      },
      "execution_count": 37,
      "outputs": []
    },
    {
      "cell_type": "code",
      "source": [
        "import matplotlib.pyplot as plt\n",
        "import numpy as np\n",
        "\n",
        "num_points = 6\n",
        "random_indices = np.random.choice(len(y_te), num_points, replace=False)\n",
        "\n",
        "plt.figure(figsize=(12, 6))\n",
        "for i, idx in enumerate(random_indices):\n",
        "    plt.subplot(2, 3, i + 1)\n",
        "    plt.plot([0], [y_te[idx]], label=\"Actual\", marker='o', linestyle='dashed')\n",
        "    plt.plot([0], [predictions[idx][0]], label=\"Predicted\", marker='x')\n",
        "    plt.title(f\"Sample {idx}\")\n",
        "    plt.ylim(-0.5, 0.5)\n",
        "    plt.legend()\n",
        "\n",
        "plt.tight_layout()\n",
        "plt.show()\n"
      ],
      "metadata": {
        "colab": {
          "base_uri": "https://localhost:8080/",
          "height": 569
        },
        "id": "64fX29sqRbvL",
        "outputId": "92cf9916-7574-471b-caad-57c338938d02"
      },
      "execution_count": 45,
      "outputs": [
        {
          "output_type": "display_data",
          "data": {
            "text/plain": [
              "<Figure size 1200x600 with 6 Axes>"
            ],
            "image/png": "[encoded data removed]"
          },
          "metadata": {}
        }
      ]
    },
    {
      "cell_type": "code",
      "source": [
        "import matplotlib.pyplot as plt\n",
        "import cartopy.crs as ccrs\n",
        "import cartopy.feature as cfeature\n",
        "\n",
        "n_timesteps = 10\n",
        "samples_per_pixel = 264 - n_timesteps  # = 254\n",
        "\n",
        "plt.figure(figsize=(12, 6))\n",
        "ax = plt.axes(projection=ccrs.PlateCarree())\n",
        "ax.coastlines()\n",
        "ax.add_feature(cfeature.BORDERS, linestyle=':')\n",
        "ax.set_extent([lons.min(), lons.max(), lats.min(), lats.max()])\n",
        "\n",
        "for i, idx in enumerate(random_indices):\n",
        "    pixel_index = idx // samples_per_pixel\n",
        "    time_offset = idx % samples_per_pixel\n",
        "    pixel_id = test_ids[pixel_index]\n",
        "    lat_idx = pixel_id // 360\n",
        "    lon_idx = pixel_id % 360\n",
        "    lat = lats[lat_idx]\n",
        "    lon = lons[lon_idx]\n",
        "\n",
        "    ax.plot(lon, lat, marker='o', color='red', markersize=5)\n",
        "    ax.text(lon, lat, f\"{i}\", fontsize=9)\n",
        "\n",
        "plt.title(\"Randomly Selected Test Points on Map\")\n",
        "plt.show()\n"
      ],
      "metadata": {
        "colab": {
          "base_uri": "https://localhost:8080/",
          "height": 521
        },
        "id": "pxQ0EVcYXrYS",
        "outputId": "f7d8f20b-c0fd-44fc-933b-82a6731b44f5"
      },
      "execution_count": 46,
      "outputs": [
        {
          "output_type": "display_data",
          "data": {
            "text/plain": [
              "<Figure size 1200x600 with 1 Axes>"
            ],
            "image/png": "[encoded data removed]"
          },
          "metadata": {}
        }
      ]
    },
    {
      "cell_type": "code",
      "source": [
        "print(random_indices)"
      ],
      "metadata": {
        "colab": {
          "base_uri": "https://localhost:8080/"
        },
        "id": "7iWexGN5XtRd",
        "outputId": "6ee39bf7-e8cf-479c-c010-178ab2ae0b72"
      },
      "execution_count": 47,
      "outputs": [
        {
          "output_type": "stream",
          "name": "stdout",
          "text": [
            "[ 136877  861349  329551 1500943 2023351  333530]\n"
          ]
        }
      ]
    },
    {
      "cell_type": "code",
      "source": [],
      "metadata": {
        "id": "5bodX3OYZYDI"
      },
      "execution_count": null,
      "outputs": []
    }
  ]
}