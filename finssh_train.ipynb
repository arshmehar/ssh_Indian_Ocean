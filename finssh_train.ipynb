{
  "nbformat": 4,
  "nbformat_minor": 0,
  "metadata": {
    "colab": {
      "provenance": [],
      "authorship_tag": "ABX9TyPaZs4QeShOSG+QRYjqikkV",
      "include_colab_link": true
    },
    "kernelspec": {
      "name": "python3",
      "display_name": "Python 3"
    },
    "language_info": {
      "name": "python"
    }
  },
  "cells": [
    {
      "cell_type": "markdown",
      "metadata": {
        "id": "view-in-github",
        "colab_type": "text"
      },
      "source": [
        "<a href=\"https://colab.research.google.com/github/arshmehar/ssh_Indian_Ocean/blob/main/finssh_train.ipynb\" target=\"_parent\"><img src=\"https://colab.research.google.com/assets/colab-badge.svg\" alt=\"Open In Colab\"/></a>"
      ]
    },
    {
      "cell_type": "markdown",
      "source": [
        "Timeseries training using LSTMs"
      ],
      "metadata": {
        "id": "bth5wDHQAthl"
      }
    },
    {
      "cell_type": "code",
      "source": [
        "from google.colab import drive\n",
        "drive.mount('/content/drive')"
      ],
      "metadata": {
        "colab": {
          "base_uri": "https://localhost:8080/"
        },
        "id": "IUoC6yxP9TQ-",
        "outputId": "03093200-2d75-4f6c-dc41-1f3dc1ffcf34"
      },
      "execution_count": 1,
      "outputs": [
        {
          "output_type": "stream",
          "name": "stdout",
          "text": [
            "Mounted at /content/drive\n"
          ]
        }
      ]
    },
    {
      "cell_type": "code",
      "source": [
        "import os\n",
        "import numpy as np\n",
        "import xarray as xr\n",
        "from tensorflow.keras.models import Sequential\n",
        "from tensorflow.keras.layers import LSTM, Dense\n",
        "from tensorflow.keras.optimizers import Adam\n",
        "from tensorflow.keras.callbacks import ModelCheckpoint, Callback"
      ],
      "metadata": {
        "id": "sqyWv_xSELF7"
      },
      "execution_count": 2,
      "outputs": []
    },
    {
      "cell_type": "code",
      "execution_count": 3,
      "metadata": {
        "id": "AxKVycfj8uRl"
      },
      "outputs": [],
      "source": [
        "path = \"/content/drive/MyDrive/prerna_data/hadgem_aviso.nc\"\n",
        "ds   = xr.open_mfdataset(path, decode_times=False, engine=\"h5netcdf\")"
      ]
    },
    {
      "cell_type": "code",
      "source": [
        "ds   = ds.mean(dim=\"ensemble_member\")\n",
        "\n",
        "X_in = ds.DSL.fillna(0).values        # (T, 240, 360)#hadgem dsl array\n",
        "y_in = ds.avisodsl.fillna(0).values"
      ],
      "metadata": {
        "id": "SGow42qI9jQH"
      },
      "execution_count": 4,
      "outputs": []
    },
    {
      "cell_type": "code",
      "source": [
        "ds"
      ],
      "metadata": {
        "id": "RYFL_6eHcp5G",
        "colab": {
          "base_uri": "https://localhost:8080/",
          "height": 321
        },
        "outputId": "63ca0c44-1483-4ac1-979d-b77951417482"
      },
      "execution_count": 5,
      "outputs": [
        {
          "output_type": "execute_result",
          "data": {
            "text/plain": [
              "<xarray.Dataset> Size: 365MB\n",
              "Dimensions:            (TIME: 264, LATITUDE241_480: 240, LONGITUDE841_1200: 360)\n",
              "Coordinates:\n",
              "  * TIME               (TIME) float64 2kB 5.15e+04 5.152e+04 ... 5.938e+04\n",
              "  * LATITUDE241_480    (LATITUDE241_480) float32 960B -29.88 -29.62 ... 29.88\n",
              "  * LONGITUDE841_1200  (LONGITUDE841_1200) float32 1kB 30.12 30.38 ... 119.9\n",
              "Data variables:\n",
              "    DSL                (TIME, LATITUDE241_480, LONGITUDE841_1200) float64 182MB dask.array<chunksize=(1, 120, 180), meta=np.ndarray>\n",
              "    avisodsl           (TIME, LATITUDE241_480, LONGITUDE841_1200) float64 182MB dask.array<chunksize=(1, 240, 360), meta=np.ndarray>"
            ],
            "text/html": [
              "<div><svg style=\"position: absolute; width: 0; height: 0; overflow: hidden\">\n",
              "<defs>\n",
              "<symbol id=\"icon-database\" viewBox=\"0 0 32 32\">\n",
              "<path d=\"M16 0c-8.837 0-16 2.239-16 5v4c0 2.761 7.163 5 16 5s16-2.239 16-5v-4c0-2.761-7.163-5-16-5z\"></path>\n",
              "<path d=\"M16 17c-8.837 0-16-2.239-16-5v6c0 2.761 7.163 5 16 5s16-2.239 16-5v-6c0 2.761-7.163 5-16 5z\"></path>\n",
              "<path d=\"M16 26c-8.837 0-16-2.239-16-5v6c0 2.761 7.163 5 16 5s16-2.239 16-5v-6c0 2.761-7.163 5-16 5z\"></path>\n",
              "</symbol>\n",
              "<symbol id=\"icon-file-text2\" viewBox=\"0 0 32 32\">\n",
              "<path d=\"M28.681 7.159c-0.694-0.947-1.662-2.053-2.724-3.116s-2.169-2.030-3.116-2.724c-1.612-1.182-2.393-1.319-2.841-1.319h-15.5c-1.378 0-2.5 1.121-2.5 2.5v27c0 1.378 1.122 2.5 2.5 2.5h23c1.378 0 2.5-1.122 2.5-2.5v-19.5c0-0.448-0.137-1.23-1.319-2.841zM24.543 5.457c0.959 0.959 1.712 1.825 2.268 2.543h-4.811v-4.811c0.718 0.556 1.584 1.309 2.543 2.268zM28 29.5c0 0.271-0.229 0.5-0.5 0.5h-23c-0.271 0-0.5-0.229-0.5-0.5v-27c0-0.271 0.229-0.5 0.5-0.5 0 0 15.499-0 15.5 0v7c0 0.552 0.448 1 1 1h7v19.5z\"></path>\n",
              "<path d=\"M23 26h-14c-0.552 0-1-0.448-1-1s0.448-1 1-1h14c0.552 0 1 0.448 1 1s-0.448 1-1 1z\"></path>\n",
              "<path d=\"M23 22h-14c-0.552 0-1-0.448-1-1s0.448-1 1-1h14c0.552 0 1 0.448 1 1s-0.448 1-1 1z\"></path>\n",
              "<path d=\"M23 18h-14c-0.552 0-1-0.448-1-1s0.448-1 1-1h14c0.552 0 1 0.448 1 1s-0.448 1-1 1z\"></path>\n",
              "</symbol>\n",
              "</defs>\n",
              "</svg>\n",
              "<style>/* CSS stylesheet for displaying xarray objects in jupyterlab.\n",
              " *\n",
              " */\n",
              "\n",
              ":root {\n",
              "  --xr-font-color0: var(--jp-content-font-color0, rgba(0, 0, 0, 1));\n",
              "  --xr-font-color2: var(--jp-content-font-color2, rgba(0, 0, 0, 0.54));\n",
              "  --xr-font-color3: var(--jp-content-font-color3, rgba(0, 0, 0, 0.38));\n",
              "  --xr-border-color: var(--jp-border-color2, #e0e0e0);\n",
              "  --xr-disabled-color: var(--jp-layout-color3, #bdbdbd);\n",
              "  --xr-background-color: var(--jp-layout-color0, white);\n",
              "  --xr-background-color-row-even: var(--jp-layout-color1, white);\n",
              "  --xr-background-color-row-odd: var(--jp-layout-color2, #eeeeee);\n",
              "}\n",
              "\n",
              "html[theme=\"dark\"],\n",
              "html[data-theme=\"dark\"],\n",
              "body[data-theme=\"dark\"],\n",
              "body.vscode-dark {\n",
              "  --xr-font-color0: rgba(255, 255, 255, 1);\n",
              "  --xr-font-color2: rgba(255, 255, 255, 0.54);\n",
              "  --xr-font-color3: rgba(255, 255, 255, 0.38);\n",
              "  --xr-border-color: #1f1f1f;\n",
              "  --xr-disabled-color: #515151;\n",
              "  --xr-background-color: #111111;\n",
              "  --xr-background-color-row-even: #111111;\n",
              "  --xr-background-color-row-odd: #313131;\n",
              "}\n",
              "\n",
              ".xr-wrap {\n",
              "  display: block !important;\n",
              "  min-width: 300px;\n",
              "  max-width: 700px;\n",
              "}\n",
              "\n",
              ".xr-text-repr-fallback {\n",
              "  /* fallback to plain text repr when CSS is not injected (untrusted notebook) */\n",
              "  display: none;\n",
              "}\n",
              "\n",
              ".xr-header {\n",
              "  padding-top: 6px;\n",
              "  padding-bottom: 6px;\n",
              "  margin-bottom: 4px;\n",
              "  border-bottom: solid 1px var(--xr-border-color);\n",
              "}\n",
              "\n",
              ".xr-header > div,\n",
              ".xr-header > ul {\n",
              "  display: inline;\n",
              "  margin-top: 0;\n",
              "  margin-bottom: 0;\n",
              "}\n",
              "\n",
              ".xr-obj-type,\n",
              ".xr-array-name {\n",
              "  margin-left: 2px;\n",
              "  margin-right: 10px;\n",
              "}\n",
              "\n",
              ".xr-obj-type {\n",
              "  color: var(--xr-font-color2);\n",
              "}\n",
              "\n",
              ".xr-sections {\n",
              "  padding-left: 0 !important;\n",
              "  display: grid;\n",
              "  grid-template-columns: 150px auto auto 1fr 0 20px 0 20px;\n",
              "}\n",
              "\n",
              ".xr-section-item {\n",
              "  display: contents;\n",
              "}\n",
              "\n",
              ".xr-section-item input {\n",
              "  display: inline-block;\n",
              "  opacity: 0;\n",
              "  height: 0;\n",
              "}\n",
              "\n",
              ".xr-section-item input + label {\n",
              "  color: var(--xr-disabled-color);\n",
              "}\n",
              "\n",
              ".xr-section-item input:enabled + label {\n",
              "  cursor: pointer;\n",
              "  color: var(--xr-font-color2);\n",
              "}\n",
              "\n",
              ".xr-section-item input:focus + label {\n",
              "  border: 2px solid var(--xr-font-color0);\n",
              "}\n",
              "\n",
              ".xr-section-item input:enabled + label:hover {\n",
              "  color: var(--xr-font-color0);\n",
              "}\n",
              "\n",
              ".xr-section-summary {\n",
              "  grid-column: 1;\n",
              "  color: var(--xr-font-color2);\n",
              "  font-weight: 500;\n",
              "}\n",
              "\n",
              ".xr-section-summary > span {\n",
              "  display: inline-block;\n",
              "  padding-left: 0.5em;\n",
              "}\n",
              "\n",
              ".xr-section-summary-in:disabled + label {\n",
              "  color: var(--xr-font-color2);\n",
              "}\n",
              "\n",
              ".xr-section-summary-in + label:before {\n",
              "  display: inline-block;\n",
              "  content: \"►\";\n",
              "  font-size: 11px;\n",
              "  width: 15px;\n",
              "  text-align: center;\n",
              "}\n",
              "\n",
              ".xr-section-summary-in:disabled + label:before {\n",
              "  color: var(--xr-disabled-color);\n",
              "}\n",
              "\n",
              ".xr-section-summary-in:checked + label:before {\n",
              "  content: \"▼\";\n",
              "}\n",
              "\n",
              ".xr-section-summary-in:checked + label > span {\n",
              "  display: none;\n",
              "}\n",
              "\n",
              ".xr-section-summary,\n",
              ".xr-section-inline-details {\n",
              "  padding-top: 4px;\n",
              "  padding-bottom: 4px;\n",
              "}\n",
              "\n",
              ".xr-section-inline-details {\n",
              "  grid-column: 2 / -1;\n",
              "}\n",
              "\n",
              ".xr-section-details {\n",
              "  display: none;\n",
              "  grid-column: 1 / -1;\n",
              "  margin-bottom: 5px;\n",
              "}\n",
              "\n",
              ".xr-section-summary-in:checked ~ .xr-section-details {\n",
              "  display: contents;\n",
              "}\n",
              "\n",
              ".xr-array-wrap {\n",
              "  grid-column: 1 / -1;\n",
              "  display: grid;\n",
              "  grid-template-columns: 20px auto;\n",
              "}\n",
              "\n",
              ".xr-array-wrap > label {\n",
              "  grid-column: 1;\n",
              "  vertical-align: top;\n",
              "}\n",
              "\n",
              ".xr-preview {\n",
              "  color: var(--xr-font-color3);\n",
              "}\n",
              "\n",
              ".xr-array-preview,\n",
              ".xr-array-data {\n",
              "  padding: 0 5px !important;\n",
              "  grid-column: 2;\n",
              "}\n",
              "\n",
              ".xr-array-data,\n",
              ".xr-array-in:checked ~ .xr-array-preview {\n",
              "  display: none;\n",
              "}\n",
              "\n",
              ".xr-array-in:checked ~ .xr-array-data,\n",
              ".xr-array-preview {\n",
              "  display: inline-block;\n",
              "}\n",
              "\n",
              ".xr-dim-list {\n",
              "  display: inline-block !important;\n",
              "  list-style: none;\n",
              "  padding: 0 !important;\n",
              "  margin: 0;\n",
              "}\n",
              "\n",
              ".xr-dim-list li {\n",
              "  display: inline-block;\n",
              "  padding: 0;\n",
              "  margin: 0;\n",
              "}\n",
              "\n",
              ".xr-dim-list:before {\n",
              "  content: \"(\";\n",
              "}\n",
              "\n",
              ".xr-dim-list:after {\n",
              "  content: \")\";\n",
              "}\n",
              "\n",
              ".xr-dim-list li:not(:last-child):after {\n",
              "  content: \",\";\n",
              "  padding-right: 5px;\n",
              "}\n",
              "\n",
              ".xr-has-index {\n",
              "  font-weight: bold;\n",
              "}\n",
              "\n",
              ".xr-var-list,\n",
              ".xr-var-item {\n",
              "  display: contents;\n",
              "}\n",
              "\n",
              ".xr-var-item > div,\n",
              ".xr-var-item label,\n",
              ".xr-var-item > .xr-var-name span {\n",
              "  background-color: var(--xr-background-color-row-even);\n",
              "  margin-bottom: 0;\n",
              "}\n",
              "\n",
              ".xr-var-item > .xr-var-name:hover span {\n",
              "  padding-right: 5px;\n",
              "}\n",
              "\n",
              ".xr-var-list > li:nth-child(odd) > div,\n",
              ".xr-var-list > li:nth-child(odd) > label,\n",
              ".xr-var-list > li:nth-child(odd) > .xr-var-name span {\n",
              "  background-color: var(--xr-background-color-row-odd);\n",
              "}\n",
              "\n",
              ".xr-var-name {\n",
              "  grid-column: 1;\n",
              "}\n",
              "\n",
              ".xr-var-dims {\n",
              "  grid-column: 2;\n",
              "}\n",
              "\n",
              ".xr-var-dtype {\n",
              "  grid-column: 3;\n",
              "  text-align: right;\n",
              "  color: var(--xr-font-color2);\n",
              "}\n",
              "\n",
              ".xr-var-preview {\n",
              "  grid-column: 4;\n",
              "}\n",
              "\n",
              ".xr-index-preview {\n",
              "  grid-column: 2 / 5;\n",
              "  color: var(--xr-font-color2);\n",
              "}\n",
              "\n",
              ".xr-var-name,\n",
              ".xr-var-dims,\n",
              ".xr-var-dtype,\n",
              ".xr-preview,\n",
              ".xr-attrs dt {\n",
              "  white-space: nowrap;\n",
              "  overflow: hidden;\n",
              "  text-overflow: ellipsis;\n",
              "  padding-right: 10px;\n",
              "}\n",
              "\n",
              ".xr-var-name:hover,\n",
              ".xr-var-dims:hover,\n",
              ".xr-var-dtype:hover,\n",
              ".xr-attrs dt:hover {\n",
              "  overflow: visible;\n",
              "  width: auto;\n",
              "  z-index: 1;\n",
              "}\n",
              "\n",
              ".xr-var-attrs,\n",
              ".xr-var-data,\n",
              ".xr-index-data {\n",
              "  display: none;\n",
              "  background-color: var(--xr-background-color) !important;\n",
              "  padding-bottom: 5px !important;\n",
              "}\n",
              "\n",
              ".xr-var-attrs-in:checked ~ .xr-var-attrs,\n",
              ".xr-var-data-in:checked ~ .xr-var-data,\n",
              ".xr-index-data-in:checked ~ .xr-index-data {\n",
              "  display: block;\n",
              "}\n",
              "\n",
              ".xr-var-data > table {\n",
              "  float: right;\n",
              "}\n",
              "\n",
              ".xr-var-name span,\n",
              ".xr-var-data,\n",
              ".xr-index-name div,\n",
              ".xr-index-data,\n",
              ".xr-attrs {\n",
              "  padding-left: 25px !important;\n",
              "}\n",
              "\n",
              ".xr-attrs,\n",
              ".xr-var-attrs,\n",
              ".xr-var-data,\n",
              ".xr-index-data {\n",
              "  grid-column: 1 / -1;\n",
              "}\n",
              "\n",
              "dl.xr-attrs {\n",
              "  padding: 0;\n",
              "  margin: 0;\n",
              "  display: grid;\n",
              "  grid-template-columns: 125px auto;\n",
              "}\n",
              "\n",
              ".xr-attrs dt,\n",
              ".xr-attrs dd {\n",
              "  padding: 0;\n",
              "  margin: 0;\n",
              "  float: left;\n",
              "  padding-right: 10px;\n",
              "  width: auto;\n",
              "}\n",
              "\n",
              ".xr-attrs dt {\n",
              "  font-weight: normal;\n",
              "  grid-column: 1;\n",
              "}\n",
              "\n",
              ".xr-attrs dt:hover span {\n",
              "  display: inline-block;\n",
              "  background: var(--xr-background-color);\n",
              "  padding-right: 10px;\n",
              "}\n",
              "\n",
              ".xr-attrs dd {\n",
              "  grid-column: 2;\n",
              "  white-space: pre-wrap;\n",
              "  word-break: break-all;\n",
              "}\n",
              "\n",
              ".xr-icon-database,\n",
              ".xr-icon-file-text2,\n",
              ".xr-no-icon {\n",
              "  display: inline-block;\n",
              "  vertical-align: middle;\n",
              "  width: 1em;\n",
              "  height: 1.5em !important;\n",
              "  stroke-width: 0;\n",
              "  stroke: currentColor;\n",
              "  fill: currentColor;\n",
              "}\n",
              "</style><pre class='xr-text-repr-fallback'>&lt;xarray.Dataset&gt; Size: 365MB\n",
              "Dimensions:            (TIME: 264, LATITUDE241_480: 240, LONGITUDE841_1200: 360)\n",
              "Coordinates:\n",
              "  * TIME               (TIME) float64 2kB 5.15e+04 5.152e+04 ... 5.938e+04\n",
              "  * LATITUDE241_480    (LATITUDE241_480) float32 960B -29.88 -29.62 ... 29.88\n",
              "  * LONGITUDE841_1200  (LONGITUDE841_1200) float32 1kB 30.12 30.38 ... 119.9\n",
              "Data variables:\n",
              "    DSL                (TIME, LATITUDE241_480, LONGITUDE841_1200) float64 182MB dask.array&lt;chunksize=(1, 120, 180), meta=np.ndarray&gt;\n",
              "    avisodsl           (TIME, LATITUDE241_480, LONGITUDE841_1200) float64 182MB dask.array&lt;chunksize=(1, 240, 360), meta=np.ndarray&gt;</pre><div class='xr-wrap' style='display:none'><div class='xr-header'><div class='xr-obj-type'>xarray.Dataset</div></div><ul class='xr-sections'><li class='xr-section-item'><input id='section-54f6b1c0-885f-43f2-839b-7b0ab34ee98a' class='xr-section-summary-in' type='checkbox' disabled ><label for='section-54f6b1c0-885f-43f2-839b-7b0ab34ee98a' class='xr-section-summary'  title='Expand/collapse section'>Dimensions:</label><div class='xr-section-inline-details'><ul class='xr-dim-list'><li><span class='xr-has-index'>TIME</span>: 264</li><li><span class='xr-has-index'>LATITUDE241_480</span>: 240</li><li><span class='xr-has-index'>LONGITUDE841_1200</span>: 360</li></ul></div><div class='xr-section-details'></div></li><li class='xr-section-item'><input id='section-8b87326c-e4d1-4523-933a-ed0597a1fb6f' class='xr-section-summary-in' type='checkbox'  checked><label for='section-8b87326c-e4d1-4523-933a-ed0597a1fb6f' class='xr-section-summary' >Coordinates: <span>(3)</span></label><div class='xr-section-inline-details'></div><div class='xr-section-details'><ul class='xr-var-list'><li class='xr-var-item'><div class='xr-var-name'><span class='xr-has-index'>TIME</span></div><div class='xr-var-dims'>(TIME)</div><div class='xr-var-dtype'>float64</div><div class='xr-var-preview xr-preview'>5.15e+04 5.152e+04 ... 5.938e+04</div><input id='attrs-ad302f09-16ed-43e0-a1ae-e4846006be2e' class='xr-var-attrs-in' type='checkbox' ><label for='attrs-ad302f09-16ed-43e0-a1ae-e4846006be2e' title='Show/Hide attributes'><svg class='icon xr-icon-file-text2'><use xlink:href='#icon-file-text2'></use></svg></label><input id='data-4c129bf4-92ea-4e48-adcc-97d90f361ee6' class='xr-var-data-in' type='checkbox'><label for='data-4c129bf4-92ea-4e48-adcc-97d90f361ee6' title='Show/Hide data repr'><svg class='icon xr-icon-database'><use xlink:href='#icon-database'></use></svg></label><div class='xr-var-attrs'><dl class='xr-attrs'><dt><span>standard_name :</span></dt><dd>time</dd><dt><span>long_name :</span></dt><dd>time</dd><dt><span>axis :</span></dt><dd>T</dd><dt><span>units :</span></dt><dd>days since 1850-01-01</dd><dt><span>calendar :</span></dt><dd>360_day</dd></dl></div><div class='xr-var-data'><pre>array([51495., 51525., 51555., ..., 59325., 59355., 59385.])</pre></div></li><li class='xr-var-item'><div class='xr-var-name'><span class='xr-has-index'>LATITUDE241_480</span></div><div class='xr-var-dims'>(LATITUDE241_480)</div><div class='xr-var-dtype'>float32</div><div class='xr-var-preview xr-preview'>-29.88 -29.62 ... 29.62 29.88</div><input id='attrs-62d73f5e-c76e-4164-9922-9ee434224a59' class='xr-var-attrs-in' type='checkbox' disabled><label for='attrs-62d73f5e-c76e-4164-9922-9ee434224a59' title='Show/Hide attributes'><svg class='icon xr-icon-file-text2'><use xlink:href='#icon-file-text2'></use></svg></label><input id='data-4a667121-aeb6-46a9-b6a4-95df411727df' class='xr-var-data-in' type='checkbox'><label for='data-4a667121-aeb6-46a9-b6a4-95df411727df' title='Show/Hide data repr'><svg class='icon xr-icon-database'><use xlink:href='#icon-database'></use></svg></label><div class='xr-var-attrs'><dl class='xr-attrs'></dl></div><div class='xr-var-data'><pre>array([-29.875, -29.625, -29.375, ...,  29.375,  29.625,  29.875],\n",
              "      dtype=float32)</pre></div></li><li class='xr-var-item'><div class='xr-var-name'><span class='xr-has-index'>LONGITUDE841_1200</span></div><div class='xr-var-dims'>(LONGITUDE841_1200)</div><div class='xr-var-dtype'>float32</div><div class='xr-var-preview xr-preview'>30.12 30.38 30.62 ... 119.6 119.9</div><input id='attrs-c2386c0a-b552-46e9-9b75-8c2519bbd3d0' class='xr-var-attrs-in' type='checkbox' disabled><label for='attrs-c2386c0a-b552-46e9-9b75-8c2519bbd3d0' title='Show/Hide attributes'><svg class='icon xr-icon-file-text2'><use xlink:href='#icon-file-text2'></use></svg></label><input id='data-aec4a6f9-4107-4fa6-a77a-523ce1b367c5' class='xr-var-data-in' type='checkbox'><label for='data-aec4a6f9-4107-4fa6-a77a-523ce1b367c5' title='Show/Hide data repr'><svg class='icon xr-icon-database'><use xlink:href='#icon-database'></use></svg></label><div class='xr-var-attrs'><dl class='xr-attrs'></dl></div><div class='xr-var-data'><pre>array([ 30.125,  30.375,  30.625, ..., 119.375, 119.625, 119.875],\n",
              "      dtype=float32)</pre></div></li></ul></div></li><li class='xr-section-item'><input id='section-3d8a31a2-813e-412f-9c8c-c04d2ca4f284' class='xr-section-summary-in' type='checkbox'  checked><label for='section-3d8a31a2-813e-412f-9c8c-c04d2ca4f284' class='xr-section-summary' >Data variables: <span>(2)</span></label><div class='xr-section-inline-details'></div><div class='xr-section-details'><ul class='xr-var-list'><li class='xr-var-item'><div class='xr-var-name'><span>DSL</span></div><div class='xr-var-dims'>(TIME, LATITUDE241_480, LONGITUDE841_1200)</div><div class='xr-var-dtype'>float64</div><div class='xr-var-preview xr-preview'>dask.array&lt;chunksize=(1, 120, 180), meta=np.ndarray&gt;</div><input id='attrs-60df3a08-41c4-4bdc-85a1-d3c353c7049e' class='xr-var-attrs-in' type='checkbox' disabled><label for='attrs-60df3a08-41c4-4bdc-85a1-d3c353c7049e' title='Show/Hide attributes'><svg class='icon xr-icon-file-text2'><use xlink:href='#icon-file-text2'></use></svg></label><input id='data-ae5fea4a-ee52-4b96-9a97-4a86cd6e26b0' class='xr-var-data-in' type='checkbox'><label for='data-ae5fea4a-ee52-4b96-9a97-4a86cd6e26b0' title='Show/Hide data repr'><svg class='icon xr-icon-database'><use xlink:href='#icon-database'></use></svg></label><div class='xr-var-attrs'><dl class='xr-attrs'></dl></div><div class='xr-var-data'><table>\n",
              "    <tr>\n",
              "        <td>\n",
              "            <table style=\"border-collapse: collapse;\">\n",
              "                <thead>\n",
              "                    <tr>\n",
              "                        <td> </td>\n",
              "                        <th> Array </th>\n",
              "                        <th> Chunk </th>\n",
              "                    </tr>\n",
              "                </thead>\n",
              "                <tbody>\n",
              "                    \n",
              "                    <tr>\n",
              "                        <th> Bytes </th>\n",
              "                        <td> 174.02 MiB </td>\n",
              "                        <td> 168.75 kiB </td>\n",
              "                    </tr>\n",
              "                    \n",
              "                    <tr>\n",
              "                        <th> Shape </th>\n",
              "                        <td> (264, 240, 360) </td>\n",
              "                        <td> (1, 120, 180) </td>\n",
              "                    </tr>\n",
              "                    <tr>\n",
              "                        <th> Dask graph </th>\n",
              "                        <td colspan=\"2\"> 1056 chunks in 4 graph layers </td>\n",
              "                    </tr>\n",
              "                    <tr>\n",
              "                        <th> Data type </th>\n",
              "                        <td colspan=\"2\"> float64 numpy.ndarray </td>\n",
              "                    </tr>\n",
              "                </tbody>\n",
              "            </table>\n",
              "        </td>\n",
              "        <td>\n",
              "        <svg width=\"231\" height=\"181\" style=\"stroke:rgb(0,0,0);stroke-width:1\" >\n",
              "\n",
              "  <!-- Horizontal lines -->\n",
              "  <line x1=\"10\" y1=\"0\" x2=\"61\" y2=\"51\" style=\"stroke-width:2\" />\n",
              "  <line x1=\"10\" y1=\"40\" x2=\"61\" y2=\"91\" />\n",
              "  <line x1=\"10\" y1=\"80\" x2=\"61\" y2=\"131\" style=\"stroke-width:2\" />\n",
              "\n",
              "  <!-- Vertical lines -->\n",
              "  <line x1=\"10\" y1=\"0\" x2=\"10\" y2=\"80\" style=\"stroke-width:2\" />\n",
              "  <line x1=\"12\" y1=\"2\" x2=\"12\" y2=\"82\" />\n",
              "  <line x1=\"15\" y1=\"5\" x2=\"15\" y2=\"85\" />\n",
              "  <line x1=\"18\" y1=\"8\" x2=\"18\" y2=\"88\" />\n",
              "  <line x1=\"20\" y1=\"10\" x2=\"20\" y2=\"90\" />\n",
              "  <line x1=\"23\" y1=\"13\" x2=\"23\" y2=\"93\" />\n",
              "  <line x1=\"26\" y1=\"16\" x2=\"26\" y2=\"96\" />\n",
              "  <line x1=\"29\" y1=\"19\" x2=\"29\" y2=\"99\" />\n",
              "  <line x1=\"31\" y1=\"21\" x2=\"31\" y2=\"101\" />\n",
              "  <line x1=\"34\" y1=\"24\" x2=\"34\" y2=\"104\" />\n",
              "  <line x1=\"37\" y1=\"27\" x2=\"37\" y2=\"107\" />\n",
              "  <line x1=\"39\" y1=\"29\" x2=\"39\" y2=\"109\" />\n",
              "  <line x1=\"42\" y1=\"32\" x2=\"42\" y2=\"112\" />\n",
              "  <line x1=\"45\" y1=\"35\" x2=\"45\" y2=\"115\" />\n",
              "  <line x1=\"48\" y1=\"38\" x2=\"48\" y2=\"118\" />\n",
              "  <line x1=\"50\" y1=\"40\" x2=\"50\" y2=\"120\" />\n",
              "  <line x1=\"53\" y1=\"43\" x2=\"53\" y2=\"123\" />\n",
              "  <line x1=\"56\" y1=\"46\" x2=\"56\" y2=\"126\" />\n",
              "  <line x1=\"59\" y1=\"49\" x2=\"59\" y2=\"129\" />\n",
              "  <line x1=\"61\" y1=\"51\" x2=\"61\" y2=\"131\" style=\"stroke-width:2\" />\n",
              "\n",
              "  <!-- Colored Rectangle -->\n",
              "  <polygon points=\"10.0,0.0 61.76470588235294,51.76470588235294 61.76470588235294,131.76470588235293 10.0,80.0\" style=\"fill:#8B4903A0;stroke-width:0\"/>\n",
              "\n",
              "  <!-- Horizontal lines -->\n",
              "  <line x1=\"10\" y1=\"0\" x2=\"130\" y2=\"0\" style=\"stroke-width:2\" />\n",
              "  <line x1=\"12\" y1=\"2\" x2=\"132\" y2=\"2\" />\n",
              "  <line x1=\"15\" y1=\"5\" x2=\"135\" y2=\"5\" />\n",
              "  <line x1=\"18\" y1=\"8\" x2=\"138\" y2=\"8\" />\n",
              "  <line x1=\"20\" y1=\"10\" x2=\"140\" y2=\"10\" />\n",
              "  <line x1=\"23\" y1=\"13\" x2=\"143\" y2=\"13\" />\n",
              "  <line x1=\"26\" y1=\"16\" x2=\"146\" y2=\"16\" />\n",
              "  <line x1=\"29\" y1=\"19\" x2=\"149\" y2=\"19\" />\n",
              "  <line x1=\"31\" y1=\"21\" x2=\"151\" y2=\"21\" />\n",
              "  <line x1=\"34\" y1=\"24\" x2=\"154\" y2=\"24\" />\n",
              "  <line x1=\"37\" y1=\"27\" x2=\"157\" y2=\"27\" />\n",
              "  <line x1=\"39\" y1=\"29\" x2=\"159\" y2=\"29\" />\n",
              "  <line x1=\"42\" y1=\"32\" x2=\"162\" y2=\"32\" />\n",
              "  <line x1=\"45\" y1=\"35\" x2=\"165\" y2=\"35\" />\n",
              "  <line x1=\"48\" y1=\"38\" x2=\"168\" y2=\"38\" />\n",
              "  <line x1=\"50\" y1=\"40\" x2=\"170\" y2=\"40\" />\n",
              "  <line x1=\"53\" y1=\"43\" x2=\"173\" y2=\"43\" />\n",
              "  <line x1=\"56\" y1=\"46\" x2=\"176\" y2=\"46\" />\n",
              "  <line x1=\"59\" y1=\"49\" x2=\"179\" y2=\"49\" />\n",
              "  <line x1=\"61\" y1=\"51\" x2=\"181\" y2=\"51\" style=\"stroke-width:2\" />\n",
              "\n",
              "  <!-- Vertical lines -->\n",
              "  <line x1=\"10\" y1=\"0\" x2=\"61\" y2=\"51\" style=\"stroke-width:2\" />\n",
              "  <line x1=\"70\" y1=\"0\" x2=\"121\" y2=\"51\" />\n",
              "  <line x1=\"130\" y1=\"0\" x2=\"181\" y2=\"51\" style=\"stroke-width:2\" />\n",
              "\n",
              "  <!-- Colored Rectangle -->\n",
              "  <polygon points=\"10.0,0.0 130.0,0.0 181.76470588235293,51.76470588235294 61.76470588235294,51.76470588235294\" style=\"fill:#8B4903A0;stroke-width:0\"/>\n",
              "\n",
              "  <!-- Horizontal lines -->\n",
              "  <line x1=\"61\" y1=\"51\" x2=\"181\" y2=\"51\" style=\"stroke-width:2\" />\n",
              "  <line x1=\"61\" y1=\"91\" x2=\"181\" y2=\"91\" />\n",
              "  <line x1=\"61\" y1=\"131\" x2=\"181\" y2=\"131\" style=\"stroke-width:2\" />\n",
              "\n",
              "  <!-- Vertical lines -->\n",
              "  <line x1=\"61\" y1=\"51\" x2=\"61\" y2=\"131\" style=\"stroke-width:2\" />\n",
              "  <line x1=\"121\" y1=\"51\" x2=\"121\" y2=\"131\" />\n",
              "  <line x1=\"181\" y1=\"51\" x2=\"181\" y2=\"131\" style=\"stroke-width:2\" />\n",
              "\n",
              "  <!-- Colored Rectangle -->\n",
              "  <polygon points=\"61.76470588235294,51.76470588235294 181.76470588235293,51.76470588235294 181.76470588235293,131.76470588235293 61.76470588235294,131.76470588235293\" style=\"fill:#ECB172A0;stroke-width:0\"/>\n",
              "\n",
              "  <!-- Text -->\n",
              "  <text x=\"121.764706\" y=\"151.764706\" font-size=\"1.0rem\" font-weight=\"100\" text-anchor=\"middle\" >360</text>\n",
              "  <text x=\"201.764706\" y=\"91.764706\" font-size=\"1.0rem\" font-weight=\"100\" text-anchor=\"middle\" transform=\"rotate(-90,201.764706,91.764706)\">240</text>\n",
              "  <text x=\"25.882353\" y=\"125.882353\" font-size=\"1.0rem\" font-weight=\"100\" text-anchor=\"middle\" transform=\"rotate(45,25.882353,125.882353)\">264</text>\n",
              "</svg>\n",
              "        </td>\n",
              "    </tr>\n",
              "</table></div></li><li class='xr-var-item'><div class='xr-var-name'><span>avisodsl</span></div><div class='xr-var-dims'>(TIME, LATITUDE241_480, LONGITUDE841_1200)</div><div class='xr-var-dtype'>float64</div><div class='xr-var-preview xr-preview'>dask.array&lt;chunksize=(1, 240, 360), meta=np.ndarray&gt;</div><input id='attrs-7f1b5ad7-4d3a-4adf-9ed8-0cda087fa707' class='xr-var-attrs-in' type='checkbox' disabled><label for='attrs-7f1b5ad7-4d3a-4adf-9ed8-0cda087fa707' title='Show/Hide attributes'><svg class='icon xr-icon-file-text2'><use xlink:href='#icon-file-text2'></use></svg></label><input id='data-b5660319-d3aa-415b-97d9-2e5a80c34f6b' class='xr-var-data-in' type='checkbox'><label for='data-b5660319-d3aa-415b-97d9-2e5a80c34f6b' title='Show/Hide data repr'><svg class='icon xr-icon-database'><use xlink:href='#icon-database'></use></svg></label><div class='xr-var-attrs'><dl class='xr-attrs'></dl></div><div class='xr-var-data'><table>\n",
              "    <tr>\n",
              "        <td>\n",
              "            <table style=\"border-collapse: collapse;\">\n",
              "                <thead>\n",
              "                    <tr>\n",
              "                        <td> </td>\n",
              "                        <th> Array </th>\n",
              "                        <th> Chunk </th>\n",
              "                    </tr>\n",
              "                </thead>\n",
              "                <tbody>\n",
              "                    \n",
              "                    <tr>\n",
              "                        <th> Bytes </th>\n",
              "                        <td> 174.02 MiB </td>\n",
              "                        <td> 675.00 kiB </td>\n",
              "                    </tr>\n",
              "                    \n",
              "                    <tr>\n",
              "                        <th> Shape </th>\n",
              "                        <td> (264, 240, 360) </td>\n",
              "                        <td> (1, 240, 360) </td>\n",
              "                    </tr>\n",
              "                    <tr>\n",
              "                        <th> Dask graph </th>\n",
              "                        <td colspan=\"2\"> 264 chunks in 2 graph layers </td>\n",
              "                    </tr>\n",
              "                    <tr>\n",
              "                        <th> Data type </th>\n",
              "                        <td colspan=\"2\"> float64 numpy.ndarray </td>\n",
              "                    </tr>\n",
              "                </tbody>\n",
              "            </table>\n",
              "        </td>\n",
              "        <td>\n",
              "        <svg width=\"231\" height=\"181\" style=\"stroke:rgb(0,0,0);stroke-width:1\" >\n",
              "\n",
              "  <!-- Horizontal lines -->\n",
              "  <line x1=\"10\" y1=\"0\" x2=\"61\" y2=\"51\" style=\"stroke-width:2\" />\n",
              "  <line x1=\"10\" y1=\"80\" x2=\"61\" y2=\"131\" style=\"stroke-width:2\" />\n",
              "\n",
              "  <!-- Vertical lines -->\n",
              "  <line x1=\"10\" y1=\"0\" x2=\"10\" y2=\"80\" style=\"stroke-width:2\" />\n",
              "  <line x1=\"12\" y1=\"2\" x2=\"12\" y2=\"82\" />\n",
              "  <line x1=\"15\" y1=\"5\" x2=\"15\" y2=\"85\" />\n",
              "  <line x1=\"18\" y1=\"8\" x2=\"18\" y2=\"88\" />\n",
              "  <line x1=\"20\" y1=\"10\" x2=\"20\" y2=\"90\" />\n",
              "  <line x1=\"23\" y1=\"13\" x2=\"23\" y2=\"93\" />\n",
              "  <line x1=\"26\" y1=\"16\" x2=\"26\" y2=\"96\" />\n",
              "  <line x1=\"29\" y1=\"19\" x2=\"29\" y2=\"99\" />\n",
              "  <line x1=\"31\" y1=\"21\" x2=\"31\" y2=\"101\" />\n",
              "  <line x1=\"34\" y1=\"24\" x2=\"34\" y2=\"104\" />\n",
              "  <line x1=\"37\" y1=\"27\" x2=\"37\" y2=\"107\" />\n",
              "  <line x1=\"39\" y1=\"29\" x2=\"39\" y2=\"109\" />\n",
              "  <line x1=\"42\" y1=\"32\" x2=\"42\" y2=\"112\" />\n",
              "  <line x1=\"45\" y1=\"35\" x2=\"45\" y2=\"115\" />\n",
              "  <line x1=\"48\" y1=\"38\" x2=\"48\" y2=\"118\" />\n",
              "  <line x1=\"50\" y1=\"40\" x2=\"50\" y2=\"120\" />\n",
              "  <line x1=\"53\" y1=\"43\" x2=\"53\" y2=\"123\" />\n",
              "  <line x1=\"56\" y1=\"46\" x2=\"56\" y2=\"126\" />\n",
              "  <line x1=\"59\" y1=\"49\" x2=\"59\" y2=\"129\" />\n",
              "  <line x1=\"61\" y1=\"51\" x2=\"61\" y2=\"131\" style=\"stroke-width:2\" />\n",
              "\n",
              "  <!-- Colored Rectangle -->\n",
              "  <polygon points=\"10.0,0.0 61.76470588235294,51.76470588235294 61.76470588235294,131.76470588235293 10.0,80.0\" style=\"fill:#8B4903A0;stroke-width:0\"/>\n",
              "\n",
              "  <!-- Horizontal lines -->\n",
              "  <line x1=\"10\" y1=\"0\" x2=\"130\" y2=\"0\" style=\"stroke-width:2\" />\n",
              "  <line x1=\"12\" y1=\"2\" x2=\"132\" y2=\"2\" />\n",
              "  <line x1=\"15\" y1=\"5\" x2=\"135\" y2=\"5\" />\n",
              "  <line x1=\"18\" y1=\"8\" x2=\"138\" y2=\"8\" />\n",
              "  <line x1=\"20\" y1=\"10\" x2=\"140\" y2=\"10\" />\n",
              "  <line x1=\"23\" y1=\"13\" x2=\"143\" y2=\"13\" />\n",
              "  <line x1=\"26\" y1=\"16\" x2=\"146\" y2=\"16\" />\n",
              "  <line x1=\"29\" y1=\"19\" x2=\"149\" y2=\"19\" />\n",
              "  <line x1=\"31\" y1=\"21\" x2=\"151\" y2=\"21\" />\n",
              "  <line x1=\"34\" y1=\"24\" x2=\"154\" y2=\"24\" />\n",
              "  <line x1=\"37\" y1=\"27\" x2=\"157\" y2=\"27\" />\n",
              "  <line x1=\"39\" y1=\"29\" x2=\"159\" y2=\"29\" />\n",
              "  <line x1=\"42\" y1=\"32\" x2=\"162\" y2=\"32\" />\n",
              "  <line x1=\"45\" y1=\"35\" x2=\"165\" y2=\"35\" />\n",
              "  <line x1=\"48\" y1=\"38\" x2=\"168\" y2=\"38\" />\n",
              "  <line x1=\"50\" y1=\"40\" x2=\"170\" y2=\"40\" />\n",
              "  <line x1=\"53\" y1=\"43\" x2=\"173\" y2=\"43\" />\n",
              "  <line x1=\"56\" y1=\"46\" x2=\"176\" y2=\"46\" />\n",
              "  <line x1=\"59\" y1=\"49\" x2=\"179\" y2=\"49\" />\n",
              "  <line x1=\"61\" y1=\"51\" x2=\"181\" y2=\"51\" style=\"stroke-width:2\" />\n",
              "\n",
              "  <!-- Vertical lines -->\n",
              "  <line x1=\"10\" y1=\"0\" x2=\"61\" y2=\"51\" style=\"stroke-width:2\" />\n",
              "  <line x1=\"130\" y1=\"0\" x2=\"181\" y2=\"51\" style=\"stroke-width:2\" />\n",
              "\n",
              "  <!-- Colored Rectangle -->\n",
              "  <polygon points=\"10.0,0.0 130.0,0.0 181.76470588235293,51.76470588235294 61.76470588235294,51.76470588235294\" style=\"fill:#8B4903A0;stroke-width:0\"/>\n",
              "\n",
              "  <!-- Horizontal lines -->\n",
              "  <line x1=\"61\" y1=\"51\" x2=\"181\" y2=\"51\" style=\"stroke-width:2\" />\n",
              "  <line x1=\"61\" y1=\"131\" x2=\"181\" y2=\"131\" style=\"stroke-width:2\" />\n",
              "\n",
              "  <!-- Vertical lines -->\n",
              "  <line x1=\"61\" y1=\"51\" x2=\"61\" y2=\"131\" style=\"stroke-width:2\" />\n",
              "  <line x1=\"181\" y1=\"51\" x2=\"181\" y2=\"131\" style=\"stroke-width:2\" />\n",
              "\n",
              "  <!-- Colored Rectangle -->\n",
              "  <polygon points=\"61.76470588235294,51.76470588235294 181.76470588235293,51.76470588235294 181.76470588235293,131.76470588235293 61.76470588235294,131.76470588235293\" style=\"fill:#ECB172A0;stroke-width:0\"/>\n",
              "\n",
              "  <!-- Text -->\n",
              "  <text x=\"121.764706\" y=\"151.764706\" font-size=\"1.0rem\" font-weight=\"100\" text-anchor=\"middle\" >360</text>\n",
              "  <text x=\"201.764706\" y=\"91.764706\" font-size=\"1.0rem\" font-weight=\"100\" text-anchor=\"middle\" transform=\"rotate(-90,201.764706,91.764706)\">240</text>\n",
              "  <text x=\"25.882353\" y=\"125.882353\" font-size=\"1.0rem\" font-weight=\"100\" text-anchor=\"middle\" transform=\"rotate(45,25.882353,125.882353)\">264</text>\n",
              "</svg>\n",
              "        </td>\n",
              "    </tr>\n",
              "</table></div></li></ul></div></li><li class='xr-section-item'><input id='section-9f576703-5c87-438b-9454-3ba636621e2a' class='xr-section-summary-in' type='checkbox'  ><label for='section-9f576703-5c87-438b-9454-3ba636621e2a' class='xr-section-summary' >Indexes: <span>(3)</span></label><div class='xr-section-inline-details'></div><div class='xr-section-details'><ul class='xr-var-list'><li class='xr-var-item'><div class='xr-index-name'><div>TIME</div></div><div class='xr-index-preview'>PandasIndex</div><input type='checkbox' disabled/><label></label><input id='index-8beaca15-2ea7-422b-bde0-f531a3a54b10' class='xr-index-data-in' type='checkbox'/><label for='index-8beaca15-2ea7-422b-bde0-f531a3a54b10' title='Show/Hide index repr'><svg class='icon xr-icon-database'><use xlink:href='#icon-database'></use></svg></label><div class='xr-index-data'><pre>PandasIndex(Index([51495.0, 51525.0, 51555.0, 51585.0, 51615.0, 51645.0, 51675.0, 51705.0,\n",
              "       51735.0, 51765.0,\n",
              "       ...\n",
              "       59115.0, 59145.0, 59175.0, 59205.0, 59235.0, 59265.0, 59295.0, 59325.0,\n",
              "       59355.0, 59385.0],\n",
              "      dtype=&#x27;float64&#x27;, name=&#x27;TIME&#x27;, length=264))</pre></div></li><li class='xr-var-item'><div class='xr-index-name'><div>LATITUDE241_480</div></div><div class='xr-index-preview'>PandasIndex</div><input type='checkbox' disabled/><label></label><input id='index-6944a070-ad5b-4019-a381-86e049a96010' class='xr-index-data-in' type='checkbox'/><label for='index-6944a070-ad5b-4019-a381-86e049a96010' title='Show/Hide index repr'><svg class='icon xr-icon-database'><use xlink:href='#icon-database'></use></svg></label><div class='xr-index-data'><pre>PandasIndex(Index([-29.875, -29.625, -29.375, -29.125, -28.875, -28.625, -28.375, -28.125,\n",
              "       -27.875, -27.625,\n",
              "       ...\n",
              "        27.625,  27.875,  28.125,  28.375,  28.625,  28.875,  29.125,  29.375,\n",
              "        29.625,  29.875],\n",
              "      dtype=&#x27;float32&#x27;, name=&#x27;LATITUDE241_480&#x27;, length=240))</pre></div></li><li class='xr-var-item'><div class='xr-index-name'><div>LONGITUDE841_1200</div></div><div class='xr-index-preview'>PandasIndex</div><input type='checkbox' disabled/><label></label><input id='index-492cb9d1-e133-464d-9abc-901f23712e6d' class='xr-index-data-in' type='checkbox'/><label for='index-492cb9d1-e133-464d-9abc-901f23712e6d' title='Show/Hide index repr'><svg class='icon xr-icon-database'><use xlink:href='#icon-database'></use></svg></label><div class='xr-index-data'><pre>PandasIndex(Index([ 30.125,  30.375,  30.625,  30.875,  31.125,  31.375,  31.625,  31.875,\n",
              "        32.125,  32.375,\n",
              "       ...\n",
              "       117.625, 117.875, 118.125, 118.375, 118.625, 118.875, 119.125, 119.375,\n",
              "       119.625, 119.875],\n",
              "      dtype=&#x27;float32&#x27;, name=&#x27;LONGITUDE841_1200&#x27;, length=360))</pre></div></li></ul></div></li><li class='xr-section-item'><input id='section-a4cbe2c5-7198-4f34-9516-1bf60260cc3a' class='xr-section-summary-in' type='checkbox' disabled ><label for='section-a4cbe2c5-7198-4f34-9516-1bf60260cc3a' class='xr-section-summary'  title='Expand/collapse section'>Attributes: <span>(0)</span></label><div class='xr-section-inline-details'></div><div class='xr-section-details'><dl class='xr-attrs'></dl></div></li></ul></div></div>"
            ]
          },
          "metadata": {},
          "execution_count": 5
        }
      ]
    },
    {
      "cell_type": "code",
      "source": [
        "X_in.shape, y_in.shape"
      ],
      "metadata": {
        "id": "euVB9r05bsLo",
        "colab": {
          "base_uri": "https://localhost:8080/"
        },
        "outputId": "bad3270d-de9c-4cbd-d963-602b5f5a1e73"
      },
      "execution_count": 6,
      "outputs": [
        {
          "output_type": "execute_result",
          "data": {
            "text/plain": [
              "((264, 240, 360), (264, 240, 360))"
            ]
          },
          "metadata": {},
          "execution_count": 6
        }
      ]
    },
    {
      "cell_type": "code",
      "source": [
        "T, H, W = X_in.shape\n",
        "print(f\"Full cube : T={T}, H={H}, W={W}\")#t is time steps, lat, long"
      ],
      "metadata": {
        "id": "5vLsARVx9N0b",
        "colab": {
          "base_uri": "https://localhost:8080/"
        },
        "outputId": "94739eec-861a-4714-b084-c1b61990a7f1"
      },
      "execution_count": 7,
      "outputs": [
        {
          "output_type": "stream",
          "name": "stdout",
          "text": [
            "Full cube : T=264, H=240, W=360\n"
          ]
        }
      ]
    },
    {
      "cell_type": "code",
      "source": [
        "X_in = X_in.reshape(T, -1)\n",
        "y_in = y_in.reshape(T, -1)"
      ],
      "metadata": {
        "id": "7oX6J0xnJdVs"
      },
      "execution_count": 8,
      "outputs": []
    },
    {
      "cell_type": "code",
      "source": [
        "X_in.shape, y_in.shape"
      ],
      "metadata": {
        "id": "QB5MSpRfcWhw",
        "colab": {
          "base_uri": "https://localhost:8080/"
        },
        "outputId": "86c0b1fd-1768-4c27-a749-b72e2f4dc996"
      },
      "execution_count": 9,
      "outputs": [
        {
          "output_type": "execute_result",
          "data": {
            "text/plain": [
              "((264, 86400), (264, 86400))"
            ]
          },
          "metadata": {},
          "execution_count": 9
        }
      ]
    },
    {
      "cell_type": "code",
      "source": [
        "X_grid = X_in.T     # shape: (H*W, T)\n",
        "y_grid = y_in.T     # shape: (H*W, T)"
      ],
      "metadata": {
        "id": "orVZeTZpJ4Km"
      },
      "execution_count": 10,
      "outputs": []
    },
    {
      "cell_type": "code",
      "source": [
        "y_grid.shape"
      ],
      "metadata": {
        "id": "mSAulOZtKUKe",
        "colab": {
          "base_uri": "https://localhost:8080/"
        },
        "outputId": "2be8c10c-4b26-457b-cd31-772e83dfbda5"
      },
      "execution_count": 11,
      "outputs": [
        {
          "output_type": "execute_result",
          "data": {
            "text/plain": [
              "(86400, 264)"
            ]
          },
          "metadata": {},
          "execution_count": 11
        }
      ]
    },
    {
      "cell_type": "code",
      "source": [
        "n_pixels=X_grid.shape[0]\n",
        "pix_ids      = np.arange(n_pixels)                 # 0 … 86 399\n",
        "rng          = np.random.default_rng(42)        # reproducible\n",
        "rng.shuffle(pix_ids) # permutes the list in‑place; every pixel gets a new random position."
      ],
      "metadata": {
        "id": "e_Uvzf459fbo"
      },
      "execution_count": 12,
      "outputs": []
    },
    {
      "cell_type": "code",
      "source": [
        "n_train      = int(0.80 * n_pixels)\n",
        "n_val        = int(0.10 * n_pixels)\n",
        "\n",
        "train_ids    = pix_ids[:n_train]\n",
        "val_ids      = pix_ids[n_train:n_train+n_val]\n",
        "test_ids     = pix_ids[n_train+n_val:]"
      ],
      "metadata": {
        "id": "D65HDc5s9onb"
      },
      "execution_count": 13,
      "outputs": []
    },
    {
      "cell_type": "code",
      "source": [
        "X_train = X_grid[train_ids]   # shape: (n_train, T)\n",
        "y_train = y_grid[train_ids]\n",
        "\n",
        "X_val = X_grid[val_ids]\n",
        "y_val = y_grid[val_ids]\n",
        "\n",
        "X_test = X_grid[test_ids]\n",
        "y_test = y_grid[test_ids]"
      ],
      "metadata": {
        "id": "fqYtJryALusH"
      },
      "execution_count": 14,
      "outputs": []
    },
    {
      "cell_type": "code",
      "source": [
        "print(\"Pixel‑only cubes  :\")\n",
        "for name, arr in [(\"train\", X_train), (\"val\", X_val), (\"test\", X_test)]:\n",
        "    print(f\"{name:5s}  {arr.shape}\")\n"
      ],
      "metadata": {
        "id": "jj1fB4pB9wLd",
        "colab": {
          "base_uri": "https://localhost:8080/"
        },
        "outputId": "79fd4adb-ed33-4855-ae4c-c3311ca2601f"
      },
      "execution_count": 15,
      "outputs": [
        {
          "output_type": "stream",
          "name": "stdout",
          "text": [
            "Pixel‑only cubes  :\n",
            "train  (69120, 264)\n",
            "val    (8640, 264)\n",
            "test   (8640, 264)\n"
          ]
        }
      ]
    },
    {
      "cell_type": "code",
      "source": [
        "X_train.shape"
      ],
      "metadata": {
        "id": "7Ew0b8VCdFJ5",
        "colab": {
          "base_uri": "https://localhost:8080/"
        },
        "outputId": "8319bd1a-3087-40e4-eb4c-37595ec11aaf"
      },
      "execution_count": 16,
      "outputs": [
        {
          "output_type": "execute_result",
          "data": {
            "text/plain": [
              "(69120, 264)"
            ]
          },
          "metadata": {},
          "execution_count": 16
        }
      ]
    },
    {
      "cell_type": "code",
      "source": [
        "y_train.shape"
      ],
      "metadata": {
        "id": "fYOifl3ldGwO",
        "colab": {
          "base_uri": "https://localhost:8080/"
        },
        "outputId": "d46103c4-f574-4ed2-a42f-3c25307a60d0"
      },
      "execution_count": 17,
      "outputs": [
        {
          "output_type": "execute_result",
          "data": {
            "text/plain": [
              "(69120, 264)"
            ]
          },
          "metadata": {},
          "execution_count": 17
        }
      ]
    },
    {
      "cell_type": "code",
      "source": [
        "# Define and compile model\n",
        "model = Sequential([\n",
        "    LSTM(64, input_shape=(10, 1)),\n",
        "    Dense(1)\n",
        "])\n",
        "\n",
        "model.compile(optimizer=Adam(1e-4), loss='mse')"
      ],
      "metadata": {
        "id": "OMwmtFlKdQi_",
        "colab": {
          "base_uri": "https://localhost:8080/"
        },
        "outputId": "140252c5-e75f-4705-d03d-31abbefdc577"
      },
      "execution_count": 18,
      "outputs": [
        {
          "output_type": "stream",
          "name": "stderr",
          "text": [
            "/usr/local/lib/python3.11/dist-packages/keras/src/layers/rnn/rnn.py:200: UserWarning: Do not pass an `input_shape`/`input_dim` argument to a layer. When using Sequential models, prefer using an `Input(shape)` object as the first layer in the model instead.\n",
            "  super().__init__(**kwargs)\n"
          ]
        }
      ]
    },
    {
      "cell_type": "code",
      "source": [
        "# Directory to save best models\n",
        "save_dir = '/home/cccr_rnd/arshmehar/models'\n",
        "os.makedirs(save_dir, exist_ok=True)\n",
        "\n",
        "# Modify the checkpoint callback to include formatted filename\n",
        "checkpoint_cb = ModelCheckpoint(\n",
        "    filepath=os.path.join(save_dir, \"best_model_epoch{epoch:04d}_val{val_loss:.6f}.h5\"),  # Keep your existing format\n",
        "    monitor='val_loss',\n",
        "    save_best_only=True,\n",
        "    mode='min',\n",
        "    verbose=1\n",
        ")\n",
        "\n",
        "# Custom callback to print a message when training completes\n",
        "class TrainingCompleteCallback(Callback):\n",
        "    def on_train_end(self, logs=None):\n",
        "        print(\"✅ Training completed successfully!\")"
      ],
      "metadata": {
        "id": "dERytIyYdQgr"
      },
      "execution_count": 19,
      "outputs": []
    },
    {
      "cell_type": "code",
      "source": [
        "history = model.fit(\n",
        "    X_train, y_train,\n",
        "    validation_data=(X_val, y_val),\n",
        "    epochs=2,\n",
        "    batch_size=2048,  # You can tune this based on memory\n",
        "    callbacks=[checkpoint_cb, TrainingCompleteCallback()]\n",
        ")"
      ],
      "metadata": {
        "id": "yMQbfsRFdQeF",
        "colab": {
          "base_uri": "https://localhost:8080/"
        },
        "outputId": "9788299f-57f8-4f30-c951-5d7d34a5e291"
      },
      "execution_count": 20,
      "outputs": [
        {
          "output_type": "stream",
          "name": "stdout",
          "text": [
            "Epoch 1/2\n",
            "\u001b[1m34/34\u001b[0m \u001b[32m━━━━━━━━━━━━━━━━━━━━\u001b[0m\u001b[37m\u001b[0m \u001b[1m0s\u001b[0m 4s/step - loss: 0.0142\n",
            "Epoch 1: val_loss improved from inf to 0.01065, saving model to /home/cccr_rnd/arshmehar/models/best_model_epoch0001_val0.010648.h5\n"
          ]
        },
        {
          "output_type": "stream",
          "name": "stderr",
          "text": [
            "WARNING:absl:You are saving your model as an HDF5 file via `model.save()` or `keras.saving.save_model(model)`. This file format is considered legacy. We recommend using instead the native Keras format, e.g. `model.save('my_model.keras')` or `keras.saving.save_model(model, 'my_model.keras')`. \n"
          ]
        },
        {
          "output_type": "stream",
          "name": "stdout",
          "text": [
            "\b\b\b\b\b\b\b\b\b\b\b\b\b\b\b\b\b\b\b\b\b\b\b\b\b\b\b\b\b\b\b\b\b\b\b\b\b\b\b\b\b\b\b\b\b\b\b\b\b\b\b\b\r\u001b[1m34/34\u001b[0m \u001b[32m━━━━━━━━━━━━━━━━━━━━\u001b[0m\u001b[37m\u001b[0m \u001b[1m150s\u001b[0m 4s/step - loss: 0.0142 - val_loss: 0.0106\n",
            "Epoch 2/2\n",
            "\u001b[1m34/34\u001b[0m \u001b[32m━━━━━━━━━━━━━━━━━━━━\u001b[0m\u001b[37m\u001b[0m \u001b[1m0s\u001b[0m 4s/step - loss: 0.0096\n",
            "Epoch 2: val_loss improved from 0.01065 to 0.00805, saving model to /home/cccr_rnd/arshmehar/models/best_model_epoch0002_val0.008049.h5\n"
          ]
        },
        {
          "output_type": "stream",
          "name": "stderr",
          "text": [
            "WARNING:absl:You are saving your model as an HDF5 file via `model.save()` or `keras.saving.save_model(model)`. This file format is considered legacy. We recommend using instead the native Keras format, e.g. `model.save('my_model.keras')` or `keras.saving.save_model(model, 'my_model.keras')`. \n"
          ]
        },
        {
          "output_type": "stream",
          "name": "stdout",
          "text": [
            "\b\b\b\b\b\b\b\b\b\b\b\b\b\b\b\b\b\b\b\b\b\b\b\b\b\b\b\b\b\b\b\b\b\b\b\b\b\b\b\b\b\b\b\b\b\b\b\b\b\b\b\b\r\u001b[1m34/34\u001b[0m \u001b[32m━━━━━━━━━━━━━━━━━━━━\u001b[0m\u001b[37m\u001b[0m \u001b[1m143s\u001b[0m 4s/step - loss: 0.0096 - val_loss: 0.0080\n",
            "✅ Training completed successfully!\n"
          ]
        }
      ]
    },
    {
      "cell_type": "code",
      "source": [
        "loss = model.evaluate(X_test, y_test, batch_size=2048)\n",
        "print(f\"Loss: {loss}\")"
      ],
      "metadata": {
        "id": "7kSBToRBdQbk",
        "colab": {
          "base_uri": "https://localhost:8080/"
        },
        "outputId": "03e03b8f-b3bf-415b-baa7-7f6fef2a52c5"
      },
      "execution_count": 21,
      "outputs": [
        {
          "output_type": "stream",
          "name": "stdout",
          "text": [
            "\u001b[1m5/5\u001b[0m \u001b[32m━━━━━━━━━━━━━━━━━━━━\u001b[0m\u001b[37m\u001b[0m \u001b[1m7s\u001b[0m 1s/step - loss: 0.0081\n",
            "Loss: 0.008030576631426811\n"
          ]
        }
      ]
    },
    {
      "cell_type": "code",
      "source": [
        "y_test.shape"
      ],
      "metadata": {
        "id": "sCeFAoPvdbBK",
        "colab": {
          "base_uri": "https://localhost:8080/"
        },
        "outputId": "90f07108-42c5-4a50-ad77-e93aca5588aa"
      },
      "execution_count": 22,
      "outputs": [
        {
          "output_type": "execute_result",
          "data": {
            "text/plain": [
              "(8640, 264)"
            ]
          },
          "metadata": {},
          "execution_count": 22
        }
      ]
    },
    {
      "cell_type": "markdown",
      "source": [
        "# PatchTST"
      ],
      "metadata": {
        "id": "pDg6h5gqfCDx"
      }
    },
    {
      "cell_type": "code",
      "source": [
        "__all__ = ['Transpose', 'get_activation_fn', 'moving_avg', 'series_decomp', 'PositionalEncoding', 'SinCosPosEncoding', 'Coord2dPosEncoding', 'Coord1dPosEncoding', 'positional_encoding']\n",
        "\n",
        "import torch\n",
        "from torch import nn\n",
        "import math\n",
        "\n",
        "class Transpose(nn.Module):\n",
        "    def __init__(self, *dims, contiguous=False):\n",
        "        super().__init__()\n",
        "        self.dims, self.contiguous = dims, contiguous\n",
        "    def forward(self, x):\n",
        "        if self.contiguous: return x.transpose(*self.dims).contiguous()\n",
        "        else: return x.transpose(*self.dims)\n",
        "\n",
        "\n",
        "def get_activation_fn(activation):\n",
        "    if callable(activation): return activation()\n",
        "    elif activation.lower() == \"relu\": return nn.ReLU()\n",
        "    elif activation.lower() == \"gelu\": return nn.GELU()\n",
        "    raise ValueError(f'{activation} is not available. You can use \"relu\", \"gelu\", or a callable')\n",
        "\n",
        "\n",
        "# decomposition\n",
        "\n",
        "class moving_avg(nn.Module):\n",
        "    \"\"\"\n",
        "    Moving average block to highlight the trend of time series\n",
        "    \"\"\"\n",
        "    def __init__(self, kernel_size, stride):\n",
        "        super(moving_avg, self).__init__()\n",
        "        self.kernel_size = kernel_size\n",
        "        self.avg = nn.AvgPool1d(kernel_size=kernel_size, stride=stride, padding=0)\n",
        "\n",
        "    def forward(self, x):\n",
        "        # padding on the both ends of time series\n",
        "        front = x[:, 0:1, :].repeat(1, (self.kernel_size - 1) // 2, 1)\n",
        "        end = x[:, -1:, :].repeat(1, (self.kernel_size - 1) // 2, 1)\n",
        "        x = torch.cat([front, x, end], dim=1)\n",
        "        x = self.avg(x.permute(0, 2, 1))\n",
        "        x = x.permute(0, 2, 1)\n",
        "        return x\n",
        "\n",
        "\n",
        "class series_decomp(nn.Module):\n",
        "    \"\"\"\n",
        "    Series decomposition block\n",
        "    \"\"\"\n",
        "    def __init__(self, kernel_size):\n",
        "        super(series_decomp, self).__init__()\n",
        "        self.moving_avg = moving_avg(kernel_size, stride=1)\n",
        "\n",
        "    def forward(self, x):\n",
        "        moving_mean = self.moving_avg(x)\n",
        "        res = x - moving_mean\n",
        "        return res, moving_mean\n",
        "\n",
        "\n",
        "\n",
        "# pos_encoding\n",
        "\n",
        "def PositionalEncoding(q_len, d_model, normalize=True):\n",
        "    pe = torch.zeros(q_len, d_model)\n",
        "    position = torch.arange(0, q_len).unsqueeze(1)\n",
        "    div_term = torch.exp(torch.arange(0, d_model, 2) * -(math.log(10000.0) / d_model))\n",
        "    pe[:, 0::2] = torch.sin(position * div_term)\n",
        "    pe[:, 1::2] = torch.cos(position * div_term)\n",
        "    if normalize:\n",
        "        pe = pe - pe.mean()\n",
        "        pe = pe / (pe.std() * 10)\n",
        "    return pe\n",
        "\n",
        "SinCosPosEncoding = PositionalEncoding\n",
        "\n",
        "def Coord2dPosEncoding(q_len, d_model, exponential=False, normalize=True, eps=1e-3, verbose=False):\n",
        "    x = .5 if exponential else 1\n",
        "    i = 0\n",
        "    for i in range(100):\n",
        "        cpe = 2 * (torch.linspace(0, 1, q_len).reshape(-1, 1) ** x) * (torch.linspace(0, 1, d_model).reshape(1, -1) ** x) - 1\n",
        "        pv(f'{i:4.0f}  {x:5.3f}  {cpe.mean():+6.3f}', verbose)\n",
        "        if abs(cpe.mean()) <= eps: break\n",
        "        elif cpe.mean() > eps: x += .001\n",
        "        else: x -= .001\n",
        "        i += 1\n",
        "    if normalize:\n",
        "        cpe = cpe - cpe.mean()\n",
        "        cpe = cpe / (cpe.std() * 10)\n",
        "    return cpe\n",
        "\n",
        "def Coord1dPosEncoding(q_len, exponential=False, normalize=True):\n",
        "    cpe = (2 * (torch.linspace(0, 1, q_len).reshape(-1, 1)**(.5 if exponential else 1)) - 1)\n",
        "    if normalize:\n",
        "        cpe = cpe - cpe.mean()\n",
        "        cpe = cpe / (cpe.std() * 10)\n",
        "    return cpe\n",
        "\n",
        "def positional_encoding(pe, learn_pe, q_len, d_model):\n",
        "    # Positional encoding\n",
        "    if pe == None:\n",
        "        W_pos = torch.empty((q_len, d_model)) # pe = None and learn_pe = False can be used to measure impact of pe\n",
        "        nn.init.uniform_(W_pos, -0.02, 0.02)\n",
        "        learn_pe = False\n",
        "    elif pe == 'zero':\n",
        "        W_pos = torch.empty((q_len, 1))\n",
        "        nn.init.uniform_(W_pos, -0.02, 0.02)\n",
        "    elif pe == 'zeros':\n",
        "        W_pos = torch.empty((q_len, d_model))\n",
        "        nn.init.uniform_(W_pos, -0.02, 0.02)\n",
        "    elif pe == 'normal' or pe == 'gauss':\n",
        "        W_pos = torch.zeros((q_len, 1))\n",
        "        torch.nn.init.normal_(W_pos, mean=0.0, std=0.1)\n",
        "    elif pe == 'uniform':\n",
        "        W_pos = torch.zeros((q_len, 1))\n",
        "        nn.init.uniform_(W_pos, a=0.0, b=0.1)\n",
        "    elif pe == 'lin1d': W_pos = Coord1dPosEncoding(q_len, exponential=False, normalize=True)\n",
        "    elif pe == 'exp1d': W_pos = Coord1dPosEncoding(q_len, exponential=True, normalize=True)\n",
        "    elif pe == 'lin2d': W_pos = Coord2dPosEncoding(q_len, d_model, exponential=False, normalize=True)\n",
        "    elif pe == 'exp2d': W_pos = Coord2dPosEncoding(q_len, d_model, exponential=True, normalize=True)\n",
        "    elif pe == 'sincos': W_pos = PositionalEncoding(q_len, d_model, normalize=True)\n",
        "    else: raise ValueError(f\"{pe} is not a valid pe (positional encoder. Available types: 'gauss'=='normal', \\\n",
        "        'zeros', 'zero', uniform', 'lin1d', 'exp1d', 'lin2d', 'exp2d', 'sincos', None.)\")\n",
        "    return nn.Parameter(W_pos, requires_grad=learn_pe)"
      ],
      "metadata": {
        "id": "gfDCKgChfK2e"
      },
      "execution_count": 23,
      "outputs": []
    },
    {
      "cell_type": "code",
      "source": [
        "# code from https://github.com/ts-kim/RevIN, with minor modifications\n",
        "\n",
        "import torch\n",
        "import torch.nn as nn\n",
        "\n",
        "class RevIN(nn.Module):\n",
        "    def __init__(self, num_features: int, eps=1e-5, affine=True, subtract_last=False):\n",
        "        \"\"\"\n",
        "        :param num_features: the number of features or channels\n",
        "        :param eps: a value added for numerical stability\n",
        "        :param affine: if True, RevIN has learnable affine parameters\n",
        "        \"\"\"\n",
        "        super(RevIN, self).__init__()\n",
        "        self.num_features = num_features\n",
        "        self.eps = eps\n",
        "        self.affine = affine\n",
        "        self.subtract_last = subtract_last\n",
        "        if self.affine:\n",
        "            self._init_params()\n",
        "\n",
        "    def forward(self, x, mode:str):\n",
        "        if mode == 'norm':\n",
        "            self._get_statistics(x)\n",
        "            x = self._normalize(x)\n",
        "        elif mode == 'denorm':\n",
        "            x = self._denormalize(x)\n",
        "        else: raise NotImplementedError\n",
        "        return x\n",
        "\n",
        "    def _init_params(self):\n",
        "        # initialize RevIN params: (C,)\n",
        "        self.affine_weight = nn.Parameter(torch.ones(self.num_features))\n",
        "        self.affine_bias = nn.Parameter(torch.zeros(self.num_features))\n",
        "\n",
        "    def _get_statistics(self, x):\n",
        "        dim2reduce = tuple(range(1, x.ndim-1))\n",
        "        if self.subtract_last:\n",
        "            self.last = x[:,-1,:].unsqueeze(1)\n",
        "        else:\n",
        "            self.mean = torch.mean(x, dim=dim2reduce, keepdim=True).detach()\n",
        "        self.stdev = torch.sqrt(torch.var(x, dim=dim2reduce, keepdim=True, unbiased=False) + self.eps).detach()\n",
        "\n",
        "    def _normalize(self, x):\n",
        "        if self.subtract_last:\n",
        "            x = x - self.last\n",
        "        else:\n",
        "            x = x - self.mean\n",
        "        x = x / self.stdev\n",
        "        if self.affine:\n",
        "            x = x * self.affine_weight\n",
        "            x = x + self.affine_bias\n",
        "        return x\n",
        "\n",
        "    def _denormalize(self, x):\n",
        "        if self.affine:\n",
        "            x = x - self.affine_bias\n",
        "            x = x / (self.affine_weight + self.eps*self.eps)\n",
        "        x = x * self.stdev\n",
        "        if self.subtract_last:\n",
        "            x = x + self.last\n",
        "        else:\n",
        "            x = x + self.mean\n",
        "        return x"
      ],
      "metadata": {
        "id": "tFkMcx3qfS89"
      },
      "execution_count": 24,
      "outputs": []
    },
    {
      "cell_type": "code",
      "source": [
        "__all__ = ['PatchTST_backbone']\n",
        "\n",
        "# Cell\n",
        "from typing import Callable, Optional\n",
        "import torch\n",
        "from torch import nn\n",
        "from torch import Tensor\n",
        "import torch.nn.functional as F\n",
        "import numpy as np\n",
        "\n",
        "#from collections import OrderedDict\n",
        "# from layers.PatchTST_layers import *\n",
        "# from layers.RevIN import RevIN\n",
        "\n",
        "# Cell\n",
        "class PatchTST_backbone(nn.Module):\n",
        "    def __init__(self, c_in:int, context_window:int, target_window:int, patch_len:int, stride:int, max_seq_len:Optional[int]=1024,\n",
        "                 n_layers:int=3, d_model=128, n_heads=16, d_k:Optional[int]=None, d_v:Optional[int]=None,\n",
        "                 d_ff:int=256, norm:str='BatchNorm', attn_dropout:float=0., dropout:float=0., act:str=\"gelu\", key_padding_mask:bool='auto',\n",
        "                 padding_var:Optional[int]=None, attn_mask:Optional[Tensor]=None, res_attention:bool=True, pre_norm:bool=False, store_attn:bool=False,\n",
        "                 pe:str='zeros', learn_pe:bool=True, fc_dropout:float=0., head_dropout = 0, padding_patch = None,\n",
        "                 pretrain_head:bool=False, head_type = 'flatten', individual = False, revin = True, affine = True, subtract_last = False,\n",
        "                 verbose:bool=False, **kwargs):\n",
        "\n",
        "        super().__init__()\n",
        "\n",
        "        # RevIn\n",
        "        self.revin = revin\n",
        "        if self.revin: self.revin_layer = RevIN(c_in, affine=affine, subtract_last=subtract_last)\n",
        "\n",
        "        # Patching\n",
        "        self.patch_len = patch_len\n",
        "        self.stride = stride\n",
        "        self.padding_patch = padding_patch\n",
        "        patch_num = int((context_window - patch_len)/stride + 1)\n",
        "        if padding_patch == 'end': # can be modified to general case\n",
        "            self.padding_patch_layer = nn.ReplicationPad1d((0, stride))\n",
        "            patch_num += 1\n",
        "\n",
        "        # Backbone\n",
        "        self.backbone = TSTiEncoder(c_in, patch_num=patch_num, patch_len=patch_len, max_seq_len=max_seq_len,\n",
        "                                n_layers=n_layers, d_model=d_model, n_heads=n_heads, d_k=d_k, d_v=d_v, d_ff=d_ff,\n",
        "                                attn_dropout=attn_dropout, dropout=dropout, act=act, key_padding_mask=key_padding_mask, padding_var=padding_var,\n",
        "                                attn_mask=attn_mask, res_attention=res_attention, pre_norm=pre_norm, store_attn=store_attn,\n",
        "                                pe=pe, learn_pe=learn_pe, verbose=verbose, **kwargs)\n",
        "\n",
        "        # Head\n",
        "        self.head_nf = d_model * patch_num\n",
        "        self.n_vars = c_in\n",
        "        self.pretrain_head = pretrain_head\n",
        "        self.head_type = head_type\n",
        "        self.individual = individual\n",
        "\n",
        "        if self.pretrain_head:\n",
        "            self.head = self.create_pretrain_head(self.head_nf, c_in, fc_dropout) # custom head passed as a partial func with all its kwargs\n",
        "        elif head_type == 'flatten':\n",
        "            self.head = Flatten_Head(self.individual, self.n_vars, self.head_nf, target_window, head_dropout=head_dropout)\n",
        "\n",
        "\n",
        "    def forward(self, z):                                                                   # z: [bs x nvars x seq_len]\n",
        "        # norm\n",
        "        if self.revin:\n",
        "            z = z.permute(0,2,1)\n",
        "            z = self.revin_layer(z, 'norm')\n",
        "            z = z.permute(0,2,1)\n",
        "\n",
        "        # do patching\n",
        "        if self.padding_patch == 'end':\n",
        "            z = self.padding_patch_layer(z)\n",
        "        z = z.unfold(dimension=-1, size=self.patch_len, step=self.stride)                   # z: [bs x nvars x patch_num x patch_len]\n",
        "        z = z.permute(0,1,3,2)                                                              # z: [bs x nvars x patch_len x patch_num]\n",
        "\n",
        "        # model\n",
        "        z = self.backbone(z)                                                                # z: [bs x nvars x d_model x patch_num]\n",
        "        z = self.head(z)                                                                    # z: [bs x nvars x target_window]\n",
        "\n",
        "        # denorm\n",
        "        if self.revin:\n",
        "            z = z.permute(0,2,1)\n",
        "            z = self.revin_layer(z, 'denorm')\n",
        "            z = z.permute(0,2,1)\n",
        "        return z\n",
        "\n",
        "    def create_pretrain_head(self, head_nf, vars, dropout):\n",
        "        return nn.Sequential(nn.Dropout(dropout),\n",
        "                    nn.Conv1d(head_nf, vars, 1)\n",
        "                    )\n",
        "\n",
        "\n",
        "class Flatten_Head(nn.Module):\n",
        "    def __init__(self, individual, n_vars, nf, target_window, head_dropout=0):\n",
        "        super().__init__()\n",
        "\n",
        "        self.individual = individual\n",
        "        self.n_vars = n_vars\n",
        "\n",
        "        if self.individual:\n",
        "            self.linears = nn.ModuleList()\n",
        "            self.dropouts = nn.ModuleList()\n",
        "            self.flattens = nn.ModuleList()\n",
        "            for i in range(self.n_vars):\n",
        "                self.flattens.append(nn.Flatten(start_dim=-2))\n",
        "                self.linears.append(nn.Linear(nf, target_window))\n",
        "                self.dropouts.append(nn.Dropout(head_dropout))\n",
        "        else:\n",
        "            self.flatten = nn.Flatten(start_dim=-2)\n",
        "            self.linear = nn.Linear(nf, target_window)\n",
        "            self.dropout = nn.Dropout(head_dropout)\n",
        "\n",
        "    def forward(self, x):                                 # x: [bs x nvars x d_model x patch_num]\n",
        "        if self.individual:\n",
        "            x_out = []\n",
        "            for i in range(self.n_vars):\n",
        "                z = self.flattens[i](x[:,i,:,:])          # z: [bs x d_model * patch_num]\n",
        "                z = self.linears[i](z)                    # z: [bs x target_window]\n",
        "                z = self.dropouts[i](z)\n",
        "                x_out.append(z)\n",
        "            x = torch.stack(x_out, dim=1)                 # x: [bs x nvars x target_window]\n",
        "        else:\n",
        "            x = self.flatten(x)\n",
        "            x = self.linear(x)\n",
        "            x = self.dropout(x)\n",
        "        return x\n",
        "\n",
        "\n",
        "\n",
        "\n",
        "class TSTiEncoder(nn.Module):  #i means channel-independent\n",
        "    def __init__(self, c_in, patch_num, patch_len, max_seq_len=1024,\n",
        "                 n_layers=3, d_model=128, n_heads=16, d_k=None, d_v=None,\n",
        "                 d_ff=256, norm='BatchNorm', attn_dropout=0., dropout=0., act=\"gelu\", store_attn=False,\n",
        "                 key_padding_mask='auto', padding_var=None, attn_mask=None, res_attention=True, pre_norm=False,\n",
        "                 pe='zeros', learn_pe=True, verbose=False, **kwargs):\n",
        "\n",
        "\n",
        "        super().__init__()\n",
        "\n",
        "        self.patch_num = patch_num\n",
        "        self.patch_len = patch_len\n",
        "\n",
        "        # Input encoding\n",
        "        q_len = patch_num\n",
        "        self.W_P = nn.Linear(patch_len, d_model)        # Eq 1: projection of feature vectors onto a d-dim vector space\n",
        "        self.seq_len = q_len\n",
        "\n",
        "        # Positional encoding\n",
        "        self.W_pos = positional_encoding(pe, learn_pe, q_len, d_model)\n",
        "\n",
        "        # Residual dropout\n",
        "        self.dropout = nn.Dropout(dropout)\n",
        "\n",
        "        # Encoder\n",
        "        self.encoder = TSTEncoder(q_len, d_model, n_heads, d_k=d_k, d_v=d_v, d_ff=d_ff, norm=norm, attn_dropout=attn_dropout, dropout=dropout,\n",
        "                                   pre_norm=pre_norm, activation=act, res_attention=res_attention, n_layers=n_layers, store_attn=store_attn)\n",
        "\n",
        "\n",
        "    def forward(self, x) -> Tensor:                                              # x: [bs x nvars x patch_len x patch_num]\n",
        "\n",
        "        n_vars = x.shape[1]\n",
        "        # Input encoding\n",
        "        x = x.permute(0,1,3,2)                                                   # x: [bs x nvars x patch_num x patch_len]\n",
        "        x = self.W_P(x)                                                          # x: [bs x nvars x patch_num x d_model]\n",
        "\n",
        "        u = torch.reshape(x, (x.shape[0]*x.shape[1],x.shape[2],x.shape[3]))      # u: [bs * nvars x patch_num x d_model]\n",
        "        u = self.dropout(u + self.W_pos)                                         # u: [bs * nvars x patch_num x d_model]\n",
        "\n",
        "        # Encoder\n",
        "        z = self.encoder(u)                                                      # z: [bs * nvars x patch_num x d_model]\n",
        "        z = torch.reshape(z, (-1,n_vars,z.shape[-2],z.shape[-1]))                # z: [bs x nvars x patch_num x d_model]\n",
        "        z = z.permute(0,1,3,2)                                                   # z: [bs x nvars x d_model x patch_num]\n",
        "\n",
        "        return z\n",
        "\n",
        "\n",
        "\n",
        "# Cell\n",
        "class TSTEncoder(nn.Module):\n",
        "    def __init__(self, q_len, d_model, n_heads, d_k=None, d_v=None, d_ff=None,\n",
        "                        norm='BatchNorm', attn_dropout=0., dropout=0., activation='gelu',\n",
        "                        res_attention=False, n_layers=1, pre_norm=False, store_attn=False):\n",
        "        super().__init__()\n",
        "\n",
        "        self.layers = nn.ModuleList([TSTEncoderLayer(q_len, d_model, n_heads=n_heads, d_k=d_k, d_v=d_v, d_ff=d_ff, norm=norm,\n",
        "                                                      attn_dropout=attn_dropout, dropout=dropout,\n",
        "                                                      activation=activation, res_attention=res_attention,\n",
        "                                                      pre_norm=pre_norm, store_attn=store_attn) for i in range(n_layers)])\n",
        "        self.res_attention = res_attention\n",
        "\n",
        "    def forward(self, src:Tensor, key_padding_mask:Optional[Tensor]=None, attn_mask:Optional[Tensor]=None):\n",
        "        output = src\n",
        "        scores = None\n",
        "        if self.res_attention:\n",
        "            for mod in self.layers: output, scores = mod(output, prev=scores, key_padding_mask=key_padding_mask, attn_mask=attn_mask)\n",
        "            return output\n",
        "        else:\n",
        "            for mod in self.layers: output = mod(output, key_padding_mask=key_padding_mask, attn_mask=attn_mask)\n",
        "            return output\n",
        "\n",
        "\n",
        "\n",
        "class TSTEncoderLayer(nn.Module):\n",
        "    def __init__(self, q_len, d_model, n_heads, d_k=None, d_v=None, d_ff=256, store_attn=False,\n",
        "                 norm='BatchNorm', attn_dropout=0, dropout=0., bias=True, activation=\"gelu\", res_attention=False, pre_norm=False):\n",
        "        super().__init__()\n",
        "        assert not d_model%n_heads, f\"d_model ({d_model}) must be divisible by n_heads ({n_heads})\"\n",
        "        d_k = d_model // n_heads if d_k is None else d_k\n",
        "        d_v = d_model // n_heads if d_v is None else d_v\n",
        "\n",
        "        # Multi-Head attention\n",
        "        self.res_attention = res_attention\n",
        "        self.self_attn = _MultiheadAttention(d_model, n_heads, d_k, d_v, attn_dropout=attn_dropout, proj_dropout=dropout, res_attention=res_attention)\n",
        "\n",
        "        # Add & Norm\n",
        "        self.dropout_attn = nn.Dropout(dropout)\n",
        "        if \"batch\" in norm.lower():\n",
        "            self.norm_attn = nn.Sequential(Transpose(1,2), nn.BatchNorm1d(d_model), Transpose(1,2))\n",
        "        else:\n",
        "            self.norm_attn = nn.LayerNorm(d_model)\n",
        "\n",
        "        # Position-wise Feed-Forward\n",
        "        self.ff = nn.Sequential(nn.Linear(d_model, d_ff, bias=bias),\n",
        "                                get_activation_fn(activation),\n",
        "                                nn.Dropout(dropout),\n",
        "                                nn.Linear(d_ff, d_model, bias=bias))\n",
        "\n",
        "        # Add & Norm\n",
        "        self.dropout_ffn = nn.Dropout(dropout)\n",
        "        if \"batch\" in norm.lower():\n",
        "            self.norm_ffn = nn.Sequential(Transpose(1,2), nn.BatchNorm1d(d_model), Transpose(1,2))\n",
        "        else:\n",
        "            self.norm_ffn = nn.LayerNorm(d_model)\n",
        "\n",
        "        self.pre_norm = pre_norm\n",
        "        self.store_attn = store_attn\n",
        "\n",
        "\n",
        "    def forward(self, src:Tensor, prev:Optional[Tensor]=None, key_padding_mask:Optional[Tensor]=None, attn_mask:Optional[Tensor]=None) -> Tensor:\n",
        "\n",
        "        # Multi-Head attention sublayer\n",
        "        if self.pre_norm:\n",
        "            src = self.norm_attn(src)\n",
        "        ## Multi-Head attention\n",
        "        if self.res_attention:\n",
        "            src2, attn, scores = self.self_attn(src, src, src, prev, key_padding_mask=key_padding_mask, attn_mask=attn_mask)\n",
        "        else:\n",
        "            src2, attn = self.self_attn(src, src, src, key_padding_mask=key_padding_mask, attn_mask=attn_mask)\n",
        "        if self.store_attn:\n",
        "            self.attn = attn\n",
        "        ## Add & Norm\n",
        "        src = src + self.dropout_attn(src2) # Add: residual connection with residual dropout\n",
        "        if not self.pre_norm:\n",
        "            src = self.norm_attn(src)\n",
        "\n",
        "        # Feed-forward sublayer\n",
        "        if self.pre_norm:\n",
        "            src = self.norm_ffn(src)\n",
        "        ## Position-wise Feed-Forward\n",
        "        src2 = self.ff(src)\n",
        "        ## Add & Norm\n",
        "        src = src + self.dropout_ffn(src2) # Add: residual connection with residual dropout\n",
        "        if not self.pre_norm:\n",
        "            src = self.norm_ffn(src)\n",
        "\n",
        "        if self.res_attention:\n",
        "            return src, scores\n",
        "        else:\n",
        "            return src\n",
        "\n",
        "\n",
        "\n",
        "\n",
        "class _MultiheadAttention(nn.Module):\n",
        "    def __init__(self, d_model, n_heads, d_k=None, d_v=None, res_attention=False, attn_dropout=0., proj_dropout=0., qkv_bias=True, lsa=False):\n",
        "        \"\"\"Multi Head Attention Layer\n",
        "        Input shape:\n",
        "            Q:       [batch_size (bs) x max_q_len x d_model]\n",
        "            K, V:    [batch_size (bs) x q_len x d_model]\n",
        "            mask:    [q_len x q_len]\n",
        "        \"\"\"\n",
        "        super().__init__()\n",
        "        d_k = d_model // n_heads if d_k is None else d_k\n",
        "        d_v = d_model // n_heads if d_v is None else d_v\n",
        "\n",
        "        self.n_heads, self.d_k, self.d_v = n_heads, d_k, d_v\n",
        "\n",
        "        self.W_Q = nn.Linear(d_model, d_k * n_heads, bias=qkv_bias)\n",
        "        self.W_K = nn.Linear(d_model, d_k * n_heads, bias=qkv_bias)\n",
        "        self.W_V = nn.Linear(d_model, d_v * n_heads, bias=qkv_bias)\n",
        "\n",
        "        # Scaled Dot-Product Attention (multiple heads)\n",
        "        self.res_attention = res_attention\n",
        "        self.sdp_attn = _ScaledDotProductAttention(d_model, n_heads, attn_dropout=attn_dropout, res_attention=self.res_attention, lsa=lsa)\n",
        "\n",
        "        # Poject output\n",
        "        self.to_out = nn.Sequential(nn.Linear(n_heads * d_v, d_model), nn.Dropout(proj_dropout))\n",
        "\n",
        "\n",
        "    def forward(self, Q:Tensor, K:Optional[Tensor]=None, V:Optional[Tensor]=None, prev:Optional[Tensor]=None,\n",
        "                key_padding_mask:Optional[Tensor]=None, attn_mask:Optional[Tensor]=None):\n",
        "\n",
        "        bs = Q.size(0)\n",
        "        if K is None: K = Q\n",
        "        if V is None: V = Q\n",
        "\n",
        "        # Linear (+ split in multiple heads)\n",
        "        q_s = self.W_Q(Q).view(bs, -1, self.n_heads, self.d_k).transpose(1,2)       # q_s    : [bs x n_heads x max_q_len x d_k]\n",
        "        k_s = self.W_K(K).view(bs, -1, self.n_heads, self.d_k).permute(0,2,3,1)     # k_s    : [bs x n_heads x d_k x q_len] - transpose(1,2) + transpose(2,3)\n",
        "        v_s = self.W_V(V).view(bs, -1, self.n_heads, self.d_v).transpose(1,2)       # v_s    : [bs x n_heads x q_len x d_v]\n",
        "\n",
        "        # Apply Scaled Dot-Product Attention (multiple heads)\n",
        "        if self.res_attention:\n",
        "            output, attn_weights, attn_scores = self.sdp_attn(q_s, k_s, v_s, prev=prev, key_padding_mask=key_padding_mask, attn_mask=attn_mask)\n",
        "        else:\n",
        "            output, attn_weights = self.sdp_attn(q_s, k_s, v_s, key_padding_mask=key_padding_mask, attn_mask=attn_mask)\n",
        "        # output: [bs x n_heads x q_len x d_v], attn: [bs x n_heads x q_len x q_len], scores: [bs x n_heads x max_q_len x q_len]\n",
        "\n",
        "        # back to the original inputs dimensions\n",
        "        output = output.transpose(1, 2).contiguous().view(bs, -1, self.n_heads * self.d_v) # output: [bs x q_len x n_heads * d_v]\n",
        "        output = self.to_out(output)\n",
        "\n",
        "        if self.res_attention: return output, attn_weights, attn_scores\n",
        "        else: return output, attn_weights\n",
        "\n",
        "\n",
        "class _ScaledDotProductAttention(nn.Module):\n",
        "    r\"\"\"Scaled Dot-Product Attention module (Attention is all you need by Vaswani et al., 2017) with optional residual attention from previous layer\n",
        "    (Realformer: Transformer likes residual attention by He et al, 2020) and locality self sttention (Vision Transformer for Small-Size Datasets\n",
        "    by Lee et al, 2021)\"\"\"\n",
        "\n",
        "    def __init__(self, d_model, n_heads, attn_dropout=0., res_attention=False, lsa=False):\n",
        "        super().__init__()\n",
        "        self.attn_dropout = nn.Dropout(attn_dropout)\n",
        "        self.res_attention = res_attention\n",
        "        head_dim = d_model // n_heads\n",
        "        self.scale = nn.Parameter(torch.tensor(head_dim ** -0.5), requires_grad=lsa)\n",
        "        self.lsa = lsa\n",
        "\n",
        "    def forward(self, q:Tensor, k:Tensor, v:Tensor, prev:Optional[Tensor]=None, key_padding_mask:Optional[Tensor]=None, attn_mask:Optional[Tensor]=None):\n",
        "        '''\n",
        "        Input shape:\n",
        "            q               : [bs x n_heads x max_q_len x d_k]\n",
        "            k               : [bs x n_heads x d_k x seq_len]\n",
        "            v               : [bs x n_heads x seq_len x d_v]\n",
        "            prev            : [bs x n_heads x q_len x seq_len]\n",
        "            key_padding_mask: [bs x seq_len]\n",
        "            attn_mask       : [1 x seq_len x seq_len]\n",
        "        Output shape:\n",
        "            output:  [bs x n_heads x q_len x d_v]\n",
        "            attn   : [bs x n_heads x q_len x seq_len]\n",
        "            scores : [bs x n_heads x q_len x seq_len]\n",
        "        '''\n",
        "\n",
        "        # Scaled MatMul (q, k) - similarity scores for all pairs of positions in an input sequence\n",
        "        attn_scores = torch.matmul(q, k) * self.scale      # attn_scores : [bs x n_heads x max_q_len x q_len]\n",
        "\n",
        "        # Add pre-softmax attention scores from the previous layer (optional)\n",
        "        if prev is not None: attn_scores = attn_scores + prev\n",
        "\n",
        "        # Attention mask (optional)\n",
        "        if attn_mask is not None:                                     # attn_mask with shape [q_len x seq_len] - only used when q_len == seq_len\n",
        "            if attn_mask.dtype == torch.bool:\n",
        "                attn_scores.masked_fill_(attn_mask, -np.inf)\n",
        "            else:\n",
        "                attn_scores += attn_mask\n",
        "\n",
        "        # Key padding mask (optional)\n",
        "        if key_padding_mask is not None:                              # mask with shape [bs x q_len] (only when max_w_len == q_len)\n",
        "            attn_scores.masked_fill_(key_padding_mask.unsqueeze(1).unsqueeze(2), -np.inf)\n",
        "\n",
        "        # normalize the attention weights\n",
        "        attn_weights = F.softmax(attn_scores, dim=-1)                 # attn_weights   : [bs x n_heads x max_q_len x q_len]\n",
        "        attn_weights = self.attn_dropout(attn_weights)\n",
        "\n",
        "        # compute the new values given the attention weights\n",
        "        output = torch.matmul(attn_weights, v)                        # output: [bs x n_heads x max_q_len x d_v]\n",
        "\n",
        "        if self.res_attention: return output, attn_weights, attn_scores\n",
        "        else: return output, attn_weights"
      ],
      "metadata": {
        "id": "tUZ1HrVJfDkN"
      },
      "execution_count": 25,
      "outputs": []
    },
    {
      "cell_type": "code",
      "source": [
        "\n"
      ],
      "metadata": {
        "id": "sg9RdnpWfDhe"
      },
      "execution_count": 25,
      "outputs": []
    },
    {
      "cell_type": "code",
      "source": [
        "class Configs:\n",
        "    def __init__(self):\n",
        "        self.enc_in = 1             # Number of features\n",
        "        self.seq_len = 264           # Input sequence length\n",
        "        self.pred_len = 264          # Target sequence length (same as input for many-to-many)\n",
        "        self.e_layers = 2           # Number of transformer encoder layers\n",
        "        self.n_heads = 4            # Number of attention heads\n",
        "        self.d_model = 64           # Embedding dimension\n",
        "        self.d_ff = 128             # Feedforward dimension\n",
        "        self.dropout = 0.1\n",
        "        self.fc_dropout = 0.1\n",
        "        self.head_dropout = 0.1\n",
        "        self.individual = False     # Shared head for all variables\n",
        "        self.patch_len = 16         # Length of each patch\n",
        "        self.stride = 8             # Stride for patching\n",
        "        self.padding_patch = 'end'  # Padding option\n",
        "        self.revin = True           # Whether to use RevIN\n",
        "        self.affine = True\n",
        "        self.subtract_last = False\n",
        "        self.decomposition = False  # Whether to use decomposition module\n",
        "        self.kernel_size = 25       # Only used if decomposition=True\n"
      ],
      "metadata": {
        "id": "HPyT-0LbfDfR"
      },
      "execution_count": 26,
      "outputs": []
    },
    {
      "cell_type": "code",
      "source": [
        "import torch\n",
        "\n",
        "X_train_tensor = torch.tensor(X_train, dtype=torch.float32)\n",
        "y_train_tensor = torch.tensor(y_train, dtype=torch.float32)\n",
        "\n",
        "X_val_tensor = torch.tensor(X_val, dtype=torch.float32)\n",
        "y_val_tensor = torch.tensor(y_val, dtype=torch.float32)\n",
        "\n",
        "train_dataset = torch.utils.data.TensorDataset(X_train_tensor, y_train_tensor)\n",
        "val_dataset = torch.utils.data.TensorDataset(X_val_tensor, y_val_tensor)\n"
      ],
      "metadata": {
        "id": "8rYk5vTuhh5B"
      },
      "execution_count": 27,
      "outputs": []
    },
    {
      "cell_type": "code",
      "source": [],
      "metadata": {
        "id": "eIdhNGuIj4ET"
      },
      "execution_count": 27,
      "outputs": []
    },
    {
      "cell_type": "code",
      "source": [],
      "metadata": {
        "id": "nkybYrScj36A"
      },
      "execution_count": 27,
      "outputs": []
    },
    {
      "cell_type": "code",
      "source": [],
      "metadata": {
        "id": "qcueWII8j5V2"
      },
      "execution_count": 27,
      "outputs": []
    },
    {
      "cell_type": "code",
      "source": [],
      "metadata": {
        "id": "i4qEPOFNj5Si"
      },
      "execution_count": 27,
      "outputs": []
    },
    {
      "cell_type": "code",
      "source": [],
      "metadata": {
        "id": "9KV-xM5cj5QP"
      },
      "execution_count": 27,
      "outputs": []
    },
    {
      "cell_type": "code",
      "source": [
        "import torch\n",
        "from torch.utils.data import TensorDataset, DataLoader\n",
        "import torch.nn as nn\n",
        "import torch.optim as optim\n",
        "\n",
        "# Setup device\n",
        "device = torch.device('cuda' if torch.cuda.is_available() else 'cpu')\n",
        "\n",
        "# Convert numpy arrays to torch tensors and reshape: (N, seq_len) -> (N, features=1, seq_len)\n",
        "X_train_tensor = torch.from_numpy(X_train).float().unsqueeze(1).to(device)  # shape (N,1,seq_len)\n",
        "y_train_tensor = torch.from_numpy(y_train).float().unsqueeze(1).to(device)\n",
        "X_val_tensor = torch.from_numpy(X_val).float().unsqueeze(1).to(device)\n",
        "y_val_tensor = torch.from_numpy(y_val).float().unsqueeze(1).to(device)\n",
        "\n",
        "# Create Datasets and DataLoaders\n",
        "train_dataset = TensorDataset(X_train_tensor, y_train_tensor)\n",
        "val_dataset = TensorDataset(X_val_tensor, y_val_tensor)\n",
        "\n",
        "batch_size = 64\n",
        "train_loader = DataLoader(train_dataset, batch_size=batch_size, shuffle=True)\n",
        "val_loader = DataLoader(val_dataset, batch_size=batch_size, shuffle=False)\n",
        "\n",
        "# Instantiate model\n",
        "# configs = Configs()\n",
        "# model = PatchTST_backbone(configs).to(device)\n",
        "configs = Configs()\n",
        "model = PatchTST_backbone(\n",
        "    configs=configs,\n",
        "    c_in=configs.enc_in,\n",
        "    context_window=configs.seq_len,\n",
        "    target_window=configs.pred_len,\n",
        "    patch_len=configs.patch_len,\n",
        "    stride=configs.stride\n",
        ").to(device)\n",
        "\n",
        "\n",
        "\n",
        "\n",
        "\n",
        "# Loss and optimizer\n",
        "criterion = nn.MSELoss()\n",
        "optimizer = optim.Adam(model.parameters(), lr=0.001)\n",
        "\n",
        "# Training loop (just 1 epoch example)\n",
        "model.train()\n",
        "for epoch in range(1):\n",
        "    running_loss = 0.0\n",
        "    for xb, yb in train_loader:\n",
        "        optimizer.zero_grad()\n",
        "        preds = model(xb)  # model expects input shape (batch, features, seq_len)\n",
        "        loss = criterion(preds, yb)\n",
        "        loss.backward()\n",
        "        optimizer.step()\n",
        "        running_loss += loss.item()\n",
        "    print(f\"Epoch {epoch+1} Training Loss: {running_loss / len(train_loader):.6f}\")\n",
        "\n",
        "# Validation loop example\n",
        "model.eval()\n",
        "val_loss = 0.0\n",
        "with torch.no_grad():\n",
        "    for xb, yb in val_loader:\n",
        "        preds = model(xb)\n",
        "        loss = criterion(preds, yb)\n",
        "        val_loss += loss.item()\n",
        "print(f\"Validation Loss: {val_loss / len(val_loader):.6f}\")\n"
      ],
      "metadata": {
        "id": "l0EQ-tK8iBAJ",
        "colab": {
          "base_uri": "https://localhost:8080/"
        },
        "outputId": "37df3049-2107-406a-d269-2554744728f0"
      },
      "execution_count": 33,
      "outputs": [
        {
          "output_type": "stream",
          "name": "stdout",
          "text": [
            "Epoch 1 Training Loss: 0.002149\n",
            "Validation Loss: 0.001455\n"
          ]
        }
      ]
    },
    {
      "cell_type": "code",
      "source": [
        "print(type(X_train), type(y_train))\n",
        "print(X_train.shape, y_train.shape)\n"
      ],
      "metadata": {
        "id": "58y2h2oReqxA"
      },
      "execution_count": null,
      "outputs": []
    },
    {
      "cell_type": "code",
      "source": [
        "# configs = Configs()\n",
        "# model = Model(configs)\n"
      ],
      "metadata": {
        "id": "fH2w6bUyfDcr"
      },
      "execution_count": null,
      "outputs": []
    },
    {
      "cell_type": "code",
      "source": [
        "# batch_size = 2\n",
        "# input_length = configs.seq_len\n",
        "# num_features = configs.enc_in\n",
        "\n",
        "# # Random input: [Batch, Input length, Channels]\n",
        "# x = torch.randn(batch_size, input_length, num_features)\n",
        "\n",
        "# # Target has same shape as input in many-to-many\n",
        "# y_true = torch.randn(batch_size, configs.pred_len, num_features)"
      ],
      "metadata": {
        "id": "J8bKYv8DfDaf"
      },
      "execution_count": null,
      "outputs": []
    },
    {
      "cell_type": "code",
      "source": [
        "# with torch.no_grad():\n",
        "#     y_pred = model(x)\n",
        "\n",
        "# print(\"Input shape: \", x.shape)\n",
        "# print(\"Output shape: \", y_pred.shape)\n",
        "# print(\"Target shape: \", y_true.shape)"
      ],
      "metadata": {
        "id": "sdSfRVM-fDYD"
      },
      "execution_count": null,
      "outputs": []
    },
    {
      "cell_type": "markdown",
      "source": [
        "# TimesFM"
      ],
      "metadata": {
        "id": "30jfd4bShGrP"
      }
    },
    {
      "cell_type": "code",
      "source": [],
      "metadata": {
        "id": "BlUbcIHcgbD1"
      },
      "execution_count": null,
      "outputs": []
    },
    {
      "cell_type": "markdown",
      "source": [
        "# Catboost"
      ],
      "metadata": {
        "id": "6I3nadEihJz5"
      }
    },
    {
      "cell_type": "code",
      "source": [],
      "metadata": {
        "id": "dvOuCshmgbBY"
      },
      "execution_count": null,
      "outputs": []
    },
    {
      "cell_type": "code",
      "source": [],
      "metadata": {
        "id": "zQOW1A7iga-p"
      },
      "execution_count": null,
      "outputs": []
    },
    {
      "cell_type": "code",
      "source": [],
      "metadata": {
        "id": "R-uXCObkga8B"
      },
      "execution_count": null,
      "outputs": []
    },
    {
      "cell_type": "code",
      "source": [],
      "metadata": {
        "id": "9Uptte5yda-l"
      },
      "execution_count": null,
      "outputs": []
    },
    {
      "cell_type": "code",
      "source": [],
      "metadata": {
        "id": "zUJ6Oq8qda7t"
      },
      "execution_count": null,
      "outputs": []
    },
    {
      "cell_type": "code",
      "source": [],
      "metadata": {
        "id": "sq_aPLtPh4S1"
      },
      "execution_count": null,
      "outputs": []
    }
  ]
}