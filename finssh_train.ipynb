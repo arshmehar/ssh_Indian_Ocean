{
  "nbformat": 4,
  "nbformat_minor": 0,
  "metadata": {
    "colab": {
      "provenance": [],
      "authorship_tag": "ABX9TyNHxhaYeBBrUXwRL7CkXQe+",
      "include_colab_link": true
    },
    "kernelspec": {
      "name": "python3",
      "display_name": "Python 3"
    },
    "language_info": {
      "name": "python"
    }
  },
  "cells": [
    {
      "cell_type": "markdown",
      "metadata": {
        "id": "view-in-github",
        "colab_type": "text"
      },
      "source": [
        "<a href=\"https://colab.research.google.com/github/arshmehar/ssh_Indian_Ocean/blob/main/finssh_train.ipynb\" target=\"_parent\"><img src=\"https://colab.research.google.com/assets/colab-badge.svg\" alt=\"Open In Colab\"/></a>"
      ]
    },
    {
      "cell_type": "markdown",
      "source": [
        "Timeseries training using LSTMs"
      ],
      "metadata": {
        "id": "bth5wDHQAthl"
      }
    },
    {
      "cell_type": "code",
      "source": [
        "from google.colab import drive\n",
        "drive.mount('/content/drive')"
      ],
      "metadata": {
        "colab": {
          "base_uri": "https://localhost:8080/"
        },
        "id": "IUoC6yxP9TQ-",
        "outputId": "1b5c00f4-f30a-40e0-d79a-791c3b5039c6"
      },
      "execution_count": 1,
      "outputs": [
        {
          "output_type": "stream",
          "name": "stdout",
          "text": [
            "Mounted at /content/drive\n"
          ]
        }
      ]
    },
    {
      "cell_type": "code",
      "source": [
        "import os\n",
        "import numpy as np\n",
        "import xarray as xr\n",
        "from tensorflow.keras.models import Sequential\n",
        "from tensorflow.keras.layers import LSTM, Dense\n",
        "from tensorflow.keras.optimizers import Adam\n",
        "from tensorflow.keras.callbacks import ModelCheckpoint, Callback\n"
      ],
      "metadata": {
        "id": "sqyWv_xSELF7"
      },
      "execution_count": null,
      "outputs": []
    },
    {
      "cell_type": "code",
      "execution_count": null,
      "metadata": {
        "id": "AxKVycfj8uRl"
      },
      "outputs": [],
      "source": [
        "path = \"/content/drive/MyDrive/prerna_data/hadgem_aviso.nc\"\n",
        "ds   = xr.open_mfdataset(path, decode_times=False, engine=\"h5netcdf\")"
      ]
    },
    {
      "cell_type": "code",
      "source": [
        "ds   = ds.mean(dim=\"ensemble_member\")\n",
        "\n",
        "X_in = ds.DSL.fillna(0).values        # (T, 240, 360)#hadgem dsl array\n",
        "y_in = ds.avisodsl.fillna(0).values"
      ],
      "metadata": {
        "id": "SGow42qI9jQH"
      },
      "execution_count": null,
      "outputs": []
    },
    {
      "cell_type": "code",
      "source": [
        "T, H, W = X_in.shape\n",
        "print(f\"Full cube : T={T}, H={H}, W={W}\")#t is time steops, lat, long"
      ],
      "metadata": {
        "colab": {
          "base_uri": "https://localhost:8080/"
        },
        "id": "5vLsARVx9N0b",
        "outputId": "fd570d04-fa39-4838-970e-06e4f10c6ca6"
      },
      "execution_count": null,
      "outputs": [
        {
          "output_type": "stream",
          "name": "stdout",
          "text": [
            "Full cube : T=264, H=240, W=360\n"
          ]
        }
      ]
    },
    {
      "cell_type": "code",
      "source": [
        "X_in = X_in.reshape(T, -1)\n",
        "y_in = y_in.reshape(T, -1)"
      ],
      "metadata": {
        "id": "7oX6J0xnJdVs"
      },
      "execution_count": null,
      "outputs": []
    },
    {
      "cell_type": "code",
      "source": [
        "X_grid = X_in.T     # shape: (H*W, T)\n",
        "y_grid = y_in.T     # shape: (H*W, T)"
      ],
      "metadata": {
        "id": "orVZeTZpJ4Km"
      },
      "execution_count": null,
      "outputs": []
    },
    {
      "cell_type": "code",
      "source": [
        "y_grid.shape"
      ],
      "metadata": {
        "colab": {
          "base_uri": "https://localhost:8080/"
        },
        "id": "mSAulOZtKUKe",
        "outputId": "38cb45fc-3e8d-4f7e-c35f-e0b7300e7330"
      },
      "execution_count": null,
      "outputs": [
        {
          "output_type": "execute_result",
          "data": {
            "text/plain": [
              "(86400, 264)"
            ]
          },
          "metadata": {},
          "execution_count": 30
        }
      ]
    },
    {
      "cell_type": "code",
      "source": [
        "n_pixels=X_grid.shape[0]\n",
        "pix_ids      = np.arange(n_pixels)                 # 0 … 86 399\n",
        "rng          = np.random.default_rng(42)        # reproducible\n",
        "rng.shuffle(pix_ids) # permutes the list in‑place; every pixel gets a new random position."
      ],
      "metadata": {
        "id": "e_Uvzf459fbo"
      },
      "execution_count": null,
      "outputs": []
    },
    {
      "cell_type": "code",
      "source": [
        "n_train      = int(0.80 * n_pixels)\n",
        "n_val        = int(0.10 * n_pixels)\n",
        "\n",
        "train_ids    = pix_ids[:n_train]\n",
        "val_ids      = pix_ids[n_train:n_train+n_val]\n",
        "test_ids     = pix_ids[n_train+n_val:]"
      ],
      "metadata": {
        "id": "D65HDc5s9onb"
      },
      "execution_count": null,
      "outputs": []
    },
    {
      "cell_type": "code",
      "source": [
        "X_train = X_grid[train_ids]   # shape: (n_train, T)\n",
        "y_train = y_grid[train_ids]\n",
        "\n",
        "X_val = X_grid[val_ids]\n",
        "y_val = y_grid[val_ids]\n",
        "\n",
        "X_test = X_grid[test_ids]\n",
        "y_test = y_grid[test_ids]"
      ],
      "metadata": {
        "id": "fqYtJryALusH"
      },
      "execution_count": null,
      "outputs": []
    },
    {
      "cell_type": "code",
      "source": [
        "print(\"Pixel‑only cubes  :\")\n",
        "for name, arr in [(\"train\", X_train), (\"val\", X_val), (\"test\", X_test)]:\n",
        "    print(f\"{name:5s}  {arr.shape}\")\n"
      ],
      "metadata": {
        "colab": {
          "base_uri": "https://localhost:8080/"
        },
        "id": "jj1fB4pB9wLd",
        "outputId": "e09c9f22-ebee-4fb1-deff-53df5c863c2c"
      },
      "execution_count": null,
      "outputs": [
        {
          "output_type": "stream",
          "name": "stdout",
          "text": [
            "Pixel‑only cubes  :\n",
            "train  (69120, 264)\n",
            "val    (8640, 264)\n",
            "test   (8640, 264)\n"
          ]
        }
      ]
    },
    {
      "cell_type": "code",
      "source": [
        "def make_seq(data_grid, target_grid, steps):\n",
        "    \"\"\"\n",
        "    Create time-windowed sequences from (n_gridpoints, time) data.\n",
        "\n",
        "    data_grid:   (n, T)\n",
        "    target_grid: (n, T)\n",
        "    steps:       input window size\n",
        "\n",
        "    Returns:\n",
        "        X_seq: (n_samples, steps, 1)\n",
        "        y_seq: (n_samples,)\n",
        "    \"\"\"\n",
        "    Xs, ys = [], []\n",
        "\n",
        "    for gridpoint in range(data_grid.shape[0]):\n",
        "        for t in range(data_grid.shape[1] - steps):\n",
        "            Xs.append(data_grid[gridpoint, t:t+steps])\n",
        "            ys.append(target_grid[gridpoint, t+steps])  # predict the next timestep\n",
        "\n",
        "    Xs = np.array(Xs)\n",
        "    ys = np.array(ys)\n",
        "    return Xs[..., np.newaxis], ys  # add a feature dim for LSTM\n"
      ],
      "metadata": {
        "id": "4VpniSBcMS_g"
      },
      "execution_count": null,
      "outputs": []
    },
    {
      "cell_type": "code",
      "source": [
        "timesteps = 10\n",
        "\n",
        "X_tr, y_tr = make_seq(X_train, y_train, timesteps)\n",
        "X_vl, y_vl = make_seq(X_val,   y_val,   timesteps)\n",
        "X_te, y_te = make_seq(X_test,  y_test,  timesteps)"
      ],
      "metadata": {
        "id": "kIjPzrlvlJ_m"
      },
      "execution_count": null,
      "outputs": []
    },
    {
      "cell_type": "code",
      "source": [
        "print(\"train :\", X_tr.shape, y_tr.shape)\n",
        "print(\"val   :\", X_vl.shape, y_vl.shape)\n",
        "print(\"test  :\", X_te.shape, y_te.shape)"
      ],
      "metadata": {
        "colab": {
          "base_uri": "https://localhost:8080/"
        },
        "id": "zv4lhZWQ98fM",
        "outputId": "45fcb84a-6662-4fc0-c6d1-8ed12bd15f6e"
      },
      "execution_count": null,
      "outputs": [
        {
          "output_type": "stream",
          "name": "stdout",
          "text": [
            "Final shapes → LSTM:\n",
            "train : (17556480, 10, 1) (17556480,)\n",
            "val   : (2194560, 10, 1) (2194560,)\n",
            "test  : (2194560, 10, 1) (2194560,)\n"
          ]
        }
      ]
    },
    {
      "cell_type": "code",
      "source": [
        "#training"
      ],
      "metadata": {
        "id": "6V5vsfgQ9-68"
      },
      "execution_count": null,
      "outputs": []
    },
    {
      "cell_type": "code",
      "source": [
        "\n",
        "\n",
        "# Define and compile model\n",
        "model = Sequential([\n",
        "    LSTM(64, input_shape=(10, 1)),\n",
        "    Dense(1)\n",
        "])\n",
        "\n",
        "model.compile(optimizer=Adam(1e-4), loss='mse')\n"
      ],
      "metadata": {
        "id": "jwU1qaXQOijY"
      },
      "execution_count": null,
      "outputs": []
    },
    {
      "cell_type": "code",
      "source": [
        "\n",
        "# Directory to save best models\n",
        "save_dir = '/home/cccr_rnd/arshmehar/models'\n",
        "os.makedirs(save_dir, exist_ok=True)\n",
        "\n",
        "# Modify the checkpoint callback to include formatted filename\n",
        "checkpoint_cb = ModelCheckpoint(\n",
        "    filepath=os.path.join(save_dir, \"best_model_epoch{epoch:04d}_val{val_loss:.6f}.h5\"),  # Keep your existing format\n",
        "    monitor='val_loss',\n",
        "    save_best_only=True,\n",
        "    mode='min',\n",
        "    verbose=1\n",
        ")\n",
        "\n",
        "# Custom callback to print a message when training completes\n",
        "class TrainingCompleteCallback(Callback):\n",
        "    def on_train_end(self, logs=None):\n",
        "        print(\"✅ Training completed successfully!\")\n",
        "\n"
      ],
      "metadata": {
        "id": "-_NNO5ZNOol0"
      },
      "execution_count": null,
      "outputs": []
    },
    {
      "cell_type": "code",
      "source": [
        "history = model.fit(\n",
        "    X_tr, y_tr,\n",
        "    validation_data=(X_vl, y_vl),\n",
        "    epochs=2,\n",
        "    batch_size=2048,  # You can tune this based on memory\n",
        "    callbacks=[checkpoint_cb, TrainingCompleteCallback()]\n",
        ")\n"
      ],
      "metadata": {
        "colab": {
          "base_uri": "https://localhost:8080/"
        },
        "id": "jho209KpOppQ",
        "outputId": "3793ba7f-861f-4766-d3d4-bb1c4b7445ea"
      },
      "execution_count": null,
      "outputs": [
        {
          "output_type": "stream",
          "name": "stdout",
          "text": [
            "Epoch 1/2\n",
            "\u001b[1m8573/8573\u001b[0m \u001b[32m━━━━━━━━━━━━━━━━━━━━\u001b[0m\u001b[37m\u001b[0m \u001b[1m0s\u001b[0m 117ms/step - loss: 0.0068\n",
            "Epoch 1: val_loss improved from 0.00696 to 0.00674, saving model to /home/cccr_rnd/arshmehar/models/best_model_epoch001_val0.006738.h5\n"
          ]
        },
        {
          "output_type": "stream",
          "name": "stderr",
          "text": [
            "WARNING:absl:You are saving your model as an HDF5 file via `model.save()` or `keras.saving.save_model(model)`. This file format is considered legacy. We recommend using instead the native Keras format, e.g. `model.save('my_model.keras')` or `keras.saving.save_model(model, 'my_model.keras')`. \n"
          ]
        },
        {
          "output_type": "stream",
          "name": "stdout",
          "text": [
            "\b\b\b\b\b\b\b\b\b\b\b\b\b\b\b\b\b\b\b\b\b\b\b\b\b\b\b\b\b\b\b\b\b\b\b\b\b\b\b\b\b\b\b\b\b\b\b\b\b\b\b\b\b\b\b\b\b\b\b\r\u001b[1m8573/8573\u001b[0m \u001b[32m━━━━━━━━━━━━━━━━━━━━\u001b[0m\u001b[37m\u001b[0m \u001b[1m1083s\u001b[0m 126ms/step - loss: 0.0068 - val_loss: 0.0067\n",
            "Epoch 2/2\n",
            "\u001b[1m8572/8573\u001b[0m \u001b[32m━━━━━━━━━━━━━━━━━━━\u001b[0m\u001b[37m━\u001b[0m \u001b[1m0s\u001b[0m 116ms/step - loss: 0.0066\n",
            "Epoch 2: val_loss improved from 0.00674 to 0.00662, saving model to /home/cccr_rnd/arshmehar/models/best_model_epoch002_val0.006616.h5\n"
          ]
        },
        {
          "output_type": "stream",
          "name": "stderr",
          "text": [
            "WARNING:absl:You are saving your model as an HDF5 file via `model.save()` or `keras.saving.save_model(model)`. This file format is considered legacy. We recommend using instead the native Keras format, e.g. `model.save('my_model.keras')` or `keras.saving.save_model(model, 'my_model.keras')`. \n"
          ]
        },
        {
          "output_type": "stream",
          "name": "stdout",
          "text": [
            "\b\b\b\b\b\b\b\b\b\b\b\b\b\b\b\b\b\b\b\b\b\b\b\b\b\b\b\b\b\b\b\b\b\b\b\b\b\b\b\b\b\b\b\b\b\b\b\b\b\b\b\b\b\b\b\b\b\b\b\r\u001b[1m8573/8573\u001b[0m \u001b[32m━━━━━━━━━━━━━━━━━━━━\u001b[0m\u001b[37m\u001b[0m \u001b[1m1063s\u001b[0m 124ms/step - loss: 0.0066 - val_loss: 0.0066\n",
            "✅ Training completed successfully!\n"
          ]
        }
      ]
    },
    {
      "cell_type": "code",
      "source": [
        "loss = model.evaluate(X_test, y_test, batch_size=2048)\n",
        "print(f\"Loss: {loss}\")\n"
      ],
      "metadata": {
        "colab": {
          "base_uri": "https://localhost:8080/"
        },
        "id": "abiasN3wd6XI",
        "outputId": "f9c6e753-5478-4304-d629-02149eb26eee"
      },
      "execution_count": null,
      "outputs": [
        {
          "output_type": "stream",
          "name": "stdout",
          "text": [
            "\u001b[1m1072/1072\u001b[0m \u001b[32m━━━━━━━━━━━━━━━━━━━━\u001b[0m\u001b[37m\u001b[0m \u001b[1m67s\u001b[0m 63ms/step - loss: 0.0066\n",
            "Loss: 0.006532410625368357\n"
          ]
        }
      ]
    },
    {
      "cell_type": "code",
      "source": [],
      "metadata": {
        "id": "sq_aPLtPh4S1"
      },
      "execution_count": null,
      "outputs": []
    }
  ]
}